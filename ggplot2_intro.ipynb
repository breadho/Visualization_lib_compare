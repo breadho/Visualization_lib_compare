{
 "cells": [
  {
   "cell_type": "markdown",
   "id": "586577d4-4cba-4d9b-b884-6fe306ce7fa2",
   "metadata": {},
   "source": [
    "# R의 데이터 시각화 \n",
    "\n",
    "  - **(학습목표)** 그래픽 문법(Grammar of Graphics)을 따라서 그래프를 그리고 시각화하는 R의 데이터 시각화 방법의 특성을 학습해본다."
   ]
  },
  {
   "cell_type": "markdown",
   "id": "9b8f02f8-c688-4728-ae2e-bc9a0ed29b13",
   "metadata": {},
   "source": [
    "## 1. ggplot이란\n",
    "\n",
    "\n",
    "### 1.1 ggplot 개요\n",
    "<ggplot에 대한 설명 추가> ... </ggplot에 대한 설명 추가>"
   ]
  },
  {
   "cell_type": "markdown",
   "id": "57cf4949-a239-480e-bbf4-b51f4c643e4a",
   "metadata": {},
   "source": [
    "그림 1.1 ggplot의 계층적 구현도\n",
    "\n",
    "![그림1-1](image/Layers_ggplot.png)"
   ]
  },
  {
   "cell_type": "markdown",
   "id": "5af91009-d7e6-4a4e-9fc9-3bab8fda076a",
   "metadata": {},
   "source": [
    "그림 1.2 그래픽 문법(grammar of graphics) 계층구조 모식도\n",
    "\n",
    "![그림1-2](image/gglayers.png)\n"
   ]
  },
  {
   "cell_type": "markdown",
   "id": "e940d389-4860-4997-9e61-044e8135708d",
   "metadata": {},
   "source": [
    "그림 1.3 그래픽 문법(grammar of graphics)의 코드 문법\n",
    "\n",
    "![그림1-3](image/major_components.webp)"
   ]
  },
  {
   "cell_type": "markdown",
   "id": "1b87b78a-2ea8-40ba-85fd-721048d3c60a",
   "metadata": {
    "tags": []
   },
   "source": [
    "그림 1.4 그래픽 문법(grammar of graphics)의 코드 문법\n",
    "\n",
    "![그림1-4](image/ggplot_basics.png)"
   ]
  },
  {
   "cell_type": "markdown",
   "id": "ce1cf175-f97f-4d87-b30d-d186a434e388",
   "metadata": {
    "tags": []
   },
   "source": [
    "그림 1.5 그래픽 문법(grammar of graphics)의 코드 문법\n",
    "\n",
    "![그림1-5](image/ggplot2_comp_step.png)"
   ]
  },
  {
   "cell_type": "markdown",
   "id": "fe6b652f-5c2a-48df-b1df-d10c0f1b5a81",
   "metadata": {},
   "source": [
    "### 1.2 ggplot 사용하기\n",
    "\n",
    "일반적인 입력 인자들에 대해 정리\n",
    "\n",
    "  - **Data** :\n",
    "      + your data, in tidy format, will provide ingredients for your plot\n",
    "      + use `dplyr` techniques to prepare data for optimal plotting format\n",
    "      + usually, this means you should have one row for every observation that you want to plot\n",
    "\n",
    "\n",
    "   - **Aesthetics** (aes), to make data visible: \n",
    "   \n",
    "      + `x, y`: variable along the x and y axis\n",
    "      + `colour`: color of geoms according to data\n",
    "      + `fill`: the inside color of the geom\n",
    "      + `group`: what group a geom belongs to\n",
    "      + `shape`: the figure used to plot a point\n",
    "      + `linetype`: the type of line used (solid, dashed, etc)\n",
    "      + `size`: size scaling for an extra dimension\n",
    "      + `alpha`: the transparency of the geom\n",
    "\n",
    "  - **Geometric objects** (geoms - determines the type of plot)\n",
    "      + `geom_point()`: scatterplot\n",
    "      + `geom_line()`: lines connecting points by increasing value of x\n",
    "      + `geom_path()`: lines connecting points in sequence of appearance\n",
    "      + `geom_boxplot()`: box and whiskers plot for categorical variables\n",
    "      + `geom_bar()`: bar charts for categorical x axis\n",
    "      + `geom_histogram()`: histogram for continuous x axis\n",
    "      + `geom_violin()`: distribution kernel of data dispersion\n",
    "      + `geom_smooth()`: function line based on data\n",
    "\n",
    "  - **Facets**\n",
    "  \n",
    "      + `facet_wrap()` or `facet_grid()` for small multiples\n",
    "\n",
    "  - **Statistics**\n",
    "      + similar to geoms, but computed\n",
    "      + show means, counts, and other statistical summaries of data\n",
    "\n",
    "  - **Coordinates** - fitting data onto a page\n",
    "      + `coord_cartesian` to set limits\n",
    "      + `coord_polar` for circular plots\n",
    "      + `coord_map` for different map projections\n",
    "\n",
    "  - **Themes**'\n",
    "      + overall visual defaults\n",
    "      + fonts, colors, shapes, outlines"
   ]
  },
  {
   "cell_type": "markdown",
   "id": "86355fea-ab7a-4ebd-902c-b33ecf7dc544",
   "metadata": {},
   "source": [
    "### 1.3 Putting these layers together\n",
    "Let’s try it out! Here are the basic steps to build a plot. You can refer back to these steps throughout the workshop if you need help!\n",
    "\n",
    "1. Create a simple plot object:\n",
    "    - `plot.object <- ggplot()`\n",
    "\n",
    "2. Add geometric layers:\n",
    "    - `plot.object <- plot.object + geom_*()`\n",
    "\n",
    "3. Add appearance layers:\n",
    "    - `plot.object <- plot.object + coord_*() + theme()`\n",
    "\n",
    "4. Repeat step 2-3 until satisfied, then print:\n",
    "    - `plot.object` or `print(plot.object)`"
   ]
  },
  {
   "cell_type": "code",
   "execution_count": 3,
   "id": "32113570-8e78-415f-9359-5b0904464453",
   "metadata": {
    "tags": []
   },
   "outputs": [
    {
     "data": {
      "text/plain": [
       "R version 4.3.0 (2023-04-21 ucrt)\n",
       "Platform: x86_64-w64-mingw32/x64 (64-bit)\n",
       "Running under: Windows 11 x64 (build 22621)\n",
       "\n",
       "Matrix products: default\n",
       "\n",
       "\n",
       "locale:\n",
       "[1] LC_COLLATE=Korean_Korea.utf8  LC_CTYPE=Korean_Korea.utf8   \n",
       "[3] LC_MONETARY=Korean_Korea.utf8 LC_NUMERIC=C                 \n",
       "[5] LC_TIME=Korean_Korea.utf8    \n",
       "\n",
       "time zone: Asia/Seoul\n",
       "tzcode source: internal\n",
       "\n",
       "attached base packages:\n",
       "[1] stats     graphics  grDevices utils     datasets  methods   base     \n",
       "\n",
       "loaded via a namespace (and not attached):\n",
       " [1] digest_0.6.31   IRdisplay_1.1   utf8_1.2.3      base64enc_0.1-3\n",
       " [5] fastmap_1.1.1   glue_1.6.2      htmltools_0.5.5 repr_1.1.6     \n",
       " [9] lifecycle_1.0.3 cli_3.6.1       fansi_1.0.4     vctrs_0.6.2    \n",
       "[13] pbdZMQ_0.3-9    compiler_4.3.0  tools_4.3.0     evaluate_0.21  \n",
       "[17] pillar_1.9.0    crayon_1.5.2    rlang_1.1.1     jsonlite_1.8.4 \n",
       "[21] IRkernel_1.3.2  uuid_1.1-0     "
      ]
     },
     "metadata": {},
     "output_type": "display_data"
    }
   ],
   "source": [
    "sessionInfo()"
   ]
  },
  {
   "cell_type": "code",
   "execution_count": 2,
   "id": "933d9231-c805-4b6d-80eb-f33d65f2e196",
   "metadata": {
    "tags": []
   },
   "outputs": [
    {
     "data": {
      "text/html": [
       "'C:/Program Files/R/R-4.3.0/library'"
      ],
      "text/latex": [
       "'C:/Program Files/R/R-4.3.0/library'"
      ],
      "text/markdown": [
       "'C:/Program Files/R/R-4.3.0/library'"
      ],
      "text/plain": [
       "[1] \"C:/Program Files/R/R-4.3.0/library\""
      ]
     },
     "metadata": {},
     "output_type": "display_data"
    }
   ],
   "source": [
    ".libPaths()"
   ]
  },
  {
   "cell_type": "markdown",
   "id": "83002128-14aa-4fc2-a39d-7de49bb986d1",
   "metadata": {},
   "source": [
    "## 2. 데이터 시각화 해보기"
   ]
  },
  {
   "cell_type": "markdown",
   "id": "a93d2642-9ac8-4a70-8740-65bf9c627bd5",
   "metadata": {},
   "source": [
    "### 예제 데이터 펭귄스 톺아보기"
   ]
  },
  {
   "cell_type": "code",
   "execution_count": 20,
   "id": "c1f253dc-e3c9-4364-8980-52000fb6fdb3",
   "metadata": {
    "tags": []
   },
   "outputs": [],
   "source": [
    "library(tidyverse)\n",
    "library(palmerpenguins)\n",
    "library(GGally)"
   ]
  },
  {
   "cell_type": "code",
   "execution_count": 12,
   "id": "50999293-084f-4e1e-aaa5-ced11077a32a",
   "metadata": {
    "tags": []
   },
   "outputs": [
    {
     "data": {
      "text/html": [
       "<style>\n",
       ".list-inline {list-style: none; margin:0; padding: 0}\n",
       ".list-inline>li {display: inline-block}\n",
       ".list-inline>li:not(:last-child)::after {content: \"\\00b7\"; padding: 0 .5ex}\n",
       "</style>\n",
       "<ol class=list-inline><li>'.GlobalEnv'</li><li>'package:palmerpenguins'</li><li>'package:lubridate'</li><li>'package:forcats'</li><li>'package:stringr'</li><li>'package:dplyr'</li><li>'package:purrr'</li><li>'package:readr'</li><li>'package:tidyr'</li><li>'package:tibble'</li><li>'package:ggplot2'</li><li>'package:tidyverse'</li><li>'jupyter:irkernel'</li><li>'package:stats'</li><li>'package:graphics'</li><li>'package:grDevices'</li><li>'package:utils'</li><li>'package:datasets'</li><li>'package:methods'</li><li>'Autoloads'</li><li>'package:base'</li></ol>\n"
      ],
      "text/latex": [
       "\\begin{enumerate*}\n",
       "\\item '.GlobalEnv'\n",
       "\\item 'package:palmerpenguins'\n",
       "\\item 'package:lubridate'\n",
       "\\item 'package:forcats'\n",
       "\\item 'package:stringr'\n",
       "\\item 'package:dplyr'\n",
       "\\item 'package:purrr'\n",
       "\\item 'package:readr'\n",
       "\\item 'package:tidyr'\n",
       "\\item 'package:tibble'\n",
       "\\item 'package:ggplot2'\n",
       "\\item 'package:tidyverse'\n",
       "\\item 'jupyter:irkernel'\n",
       "\\item 'package:stats'\n",
       "\\item 'package:graphics'\n",
       "\\item 'package:grDevices'\n",
       "\\item 'package:utils'\n",
       "\\item 'package:datasets'\n",
       "\\item 'package:methods'\n",
       "\\item 'Autoloads'\n",
       "\\item 'package:base'\n",
       "\\end{enumerate*}\n"
      ],
      "text/markdown": [
       "1. '.GlobalEnv'\n",
       "2. 'package:palmerpenguins'\n",
       "3. 'package:lubridate'\n",
       "4. 'package:forcats'\n",
       "5. 'package:stringr'\n",
       "6. 'package:dplyr'\n",
       "7. 'package:purrr'\n",
       "8. 'package:readr'\n",
       "9. 'package:tidyr'\n",
       "10. 'package:tibble'\n",
       "11. 'package:ggplot2'\n",
       "12. 'package:tidyverse'\n",
       "13. 'jupyter:irkernel'\n",
       "14. 'package:stats'\n",
       "15. 'package:graphics'\n",
       "16. 'package:grDevices'\n",
       "17. 'package:utils'\n",
       "18. 'package:datasets'\n",
       "19. 'package:methods'\n",
       "20. 'Autoloads'\n",
       "21. 'package:base'\n",
       "\n",
       "\n"
      ],
      "text/plain": [
       " [1] \".GlobalEnv\"             \"package:palmerpenguins\" \"package:lubridate\"     \n",
       " [4] \"package:forcats\"        \"package:stringr\"        \"package:dplyr\"         \n",
       " [7] \"package:purrr\"          \"package:readr\"          \"package:tidyr\"         \n",
       "[10] \"package:tibble\"         \"package:ggplot2\"        \"package:tidyverse\"     \n",
       "[13] \"jupyter:irkernel\"       \"package:stats\"          \"package:graphics\"      \n",
       "[16] \"package:grDevices\"      \"package:utils\"          \"package:datasets\"      \n",
       "[19] \"package:methods\"        \"Autoloads\"              \"package:base\"          "
      ]
     },
     "metadata": {},
     "output_type": "display_data"
    }
   ],
   "source": [
    "search()"
   ]
  },
  {
   "cell_type": "code",
   "execution_count": 13,
   "id": "cfc1bd77-40bf-4d70-8ab4-852764e56b86",
   "metadata": {
    "tags": []
   },
   "outputs": [
    {
     "name": "stdout",
     "output_type": "stream",
     "text": [
      "tibble [344 × 8] (S3: tbl_df/tbl/data.frame)\n",
      " $ species          : Factor w/ 3 levels \"Adelie\",\"Chinstrap\",..: 1 1 1 1 1 1 1 1 1 1 ...\n",
      " $ island           : Factor w/ 3 levels \"Biscoe\",\"Dream\",..: 3 3 3 3 3 3 3 3 3 3 ...\n",
      " $ bill_length_mm   : num [1:344] 39.1 39.5 40.3 NA 36.7 39.3 38.9 39.2 34.1 42 ...\n",
      " $ bill_depth_mm    : num [1:344] 18.7 17.4 18 NA 19.3 20.6 17.8 19.6 18.1 20.2 ...\n",
      " $ flipper_length_mm: int [1:344] 181 186 195 NA 193 190 181 195 193 190 ...\n",
      " $ body_mass_g      : int [1:344] 3750 3800 3250 NA 3450 3650 3625 4675 3475 4250 ...\n",
      " $ sex              : Factor w/ 2 levels \"female\",\"male\": 2 1 1 NA 1 2 1 2 NA NA ...\n",
      " $ year             : int [1:344] 2007 2007 2007 2007 2007 2007 2007 2007 2007 2007 ...\n"
     ]
    }
   ],
   "source": [
    "str(penguins)"
   ]
  },
  {
   "cell_type": "code",
   "execution_count": 14,
   "id": "188cf6ca-04a4-4576-afc6-3af08c753c55",
   "metadata": {
    "tags": []
   },
   "outputs": [
    {
     "data": {
      "text/html": [
       "<style>\n",
       ".list-inline {list-style: none; margin:0; padding: 0}\n",
       ".list-inline>li {display: inline-block}\n",
       ".list-inline>li:not(:last-child)::after {content: \"\\00b7\"; padding: 0 .5ex}\n",
       "</style>\n",
       "<ol class=list-inline><li>'tbl_df'</li><li>'tbl'</li><li>'data.frame'</li></ol>\n"
      ],
      "text/latex": [
       "\\begin{enumerate*}\n",
       "\\item 'tbl\\_df'\n",
       "\\item 'tbl'\n",
       "\\item 'data.frame'\n",
       "\\end{enumerate*}\n"
      ],
      "text/markdown": [
       "1. 'tbl_df'\n",
       "2. 'tbl'\n",
       "3. 'data.frame'\n",
       "\n",
       "\n"
      ],
      "text/plain": [
       "[1] \"tbl_df\"     \"tbl\"        \"data.frame\""
      ]
     },
     "metadata": {},
     "output_type": "display_data"
    }
   ],
   "source": [
    "class(penguins)"
   ]
  },
  {
   "cell_type": "code",
   "execution_count": 23,
   "id": "5876146d-068e-49b3-8845-182c61200de4",
   "metadata": {
    "tags": []
   },
   "outputs": [
    {
     "name": "stderr",
     "output_type": "stream",
     "text": [
      "\u001b[1m\u001b[22m`stat_bin()` using `bins = 30`. Pick better value with `binwidth`.\n",
      "\u001b[1m\u001b[22m`stat_bin()` using `bins = 30`. Pick better value with `binwidth`.\n",
      "\u001b[1m\u001b[22m`stat_bin()` using `bins = 30`. Pick better value with `binwidth`.\n",
      "\u001b[1m\u001b[22m`stat_bin()` using `bins = 30`. Pick better value with `binwidth`.\n",
      "\u001b[1m\u001b[22m`stat_bin()` using `bins = 30`. Pick better value with `binwidth`.\n",
      "\u001b[1m\u001b[22m`stat_bin()` using `bins = 30`. Pick better value with `binwidth`.\n",
      "\u001b[1m\u001b[22m`stat_bin()` using `bins = 30`. Pick better value with `binwidth`.\n",
      "\u001b[1m\u001b[22m`stat_bin()` using `bins = 30`. Pick better value with `binwidth`.\n",
      "\u001b[1m\u001b[22m`stat_bin()` using `bins = 30`. Pick better value with `binwidth`.\n",
      "\u001b[1m\u001b[22m`stat_bin()` using `bins = 30`. Pick better value with `binwidth`.\n",
      "\u001b[1m\u001b[22m`stat_bin()` using `bins = 30`. Pick better value with `binwidth`.\n",
      "\u001b[1m\u001b[22m`stat_bin()` using `bins = 30`. Pick better value with `binwidth`.\n",
      "\u001b[1m\u001b[22m`stat_bin()` using `bins = 30`. Pick better value with `binwidth`.\n",
      "\u001b[1m\u001b[22m`stat_bin()` using `bins = 30`. Pick better value with `binwidth`.\n",
      "\u001b[1m\u001b[22m`stat_bin()` using `bins = 30`. Pick better value with `binwidth`.\n"
     ]
    },
    {
     "data": {
      "image/png": "[encoded data removed]",
      "text/plain": [
       "plot without title"
      ]
     },
     "metadata": {
      "image/png": {
       "height": 420,
       "width": 420
      }
     },
     "output_type": "display_data"
    }
   ],
   "source": [
    "options(warn = -1)\n",
    "ggpairs(penguins, aes(colour = species), progress = FALSE) +\n",
    "    theme_bw()"
   ]
  },
  {
   "cell_type": "code",
   "execution_count": 24,
   "id": "fc9a3303-3acd-4024-afb5-adb841307c8e",
   "metadata": {
    "tags": []
   },
   "outputs": [
    {
     "name": "stderr",
     "output_type": "stream",
     "text": [
      "\u001b[1m\u001b[22m`geom_smooth()` using formula = 'y ~ x'\n"
     ]
    },
    {
     "data": {
      "image/png": "[encoded data removed]",
      "text/plain": [
       "plot without title"
      ]
     },
     "metadata": {
      "image/png": {
       "height": 420,
       "width": 420
      }
     },
     "output_type": "display_data"
    }
   ],
   "source": [
    "# Let's explore how some of this data is structured by species\n",
    "ggplot(data = penguins,               # Data\n",
    "       aes(x = bill_length_mm,        # Your X-value\n",
    "           y = bill_depth_mm,         # Your Y-value\n",
    "           col = species)) +          # Aesthetics\n",
    "  geom_point(size = 5, alpha = 0.8) + # Point\n",
    "  geom_smooth(method = \"lm\") +        # Linear regression\n",
    "  labs(title = \"Relationship between bill length and depth\\nfor different penguin species\", # Title\n",
    "       x = \"Bill length (mm)\", # X-axis title\n",
    "       y = \"Bill depth (mm)\", # Y-axis title\n",
    "       col = \"Species\") +  # Colour data point by species (also creates legend)\n",
    "  theme_classic() + # Apply a clean theme\n",
    "  theme(title = element_text(size = 18, face = \"bold\"),\n",
    "      text = element_text(size = 16))"
   ]
  },
  {
   "cell_type": "markdown",
   "id": "254bc6c2-0afa-4a68-87b8-a618ce717ee7",
   "metadata": {},
   "source": [
    "### 2.1 데이터 레이어(data layer)"
   ]
  },
  {
   "cell_type": "code",
   "execution_count": 25,
   "id": "3e293ab5-c883-400b-9518-fc67f6dffb3e",
   "metadata": {
    "tags": []
   },
   "outputs": [
    {
     "data": {
      "image/png": "[encoded data removed]",
      "text/plain": [
       "plot without title"
      ]
     },
     "metadata": {
      "image/png": {
       "height": 420,
       "width": 420
      }
     },
     "output_type": "display_data"
    }
   ],
   "source": [
    "# Layer 1: Data\n",
    "ggplot(data = penguins)"
   ]
  },
  {
   "cell_type": "markdown",
   "id": "f2693ed6-3ce0-4b01-b70f-c58e9584b58f",
   "metadata": {},
   "source": [
    "### 2.2 심미적 레이어(Aesthetics layer)"
   ]
  },
  {
   "cell_type": "code",
   "execution_count": 26,
   "id": "c59d1672-0d76-4a66-8279-88bfef4de18d",
   "metadata": {
    "tags": []
   },
   "outputs": [
    {
     "data": {
      "image/png": "[encoded data removed]",
      "text/plain": [
       "plot without title"
      ]
     },
     "metadata": {
      "image/png": {
       "height": 420,
       "width": 420
      }
     },
     "output_type": "display_data"
    }
   ],
   "source": [
    "# Next layer: aesthetics.  Here, we tell R to plot length\n",
    "# on the x axis, and depth on the y axis but we still\n",
    "# haven't told R how we want these data to be\n",
    "# represented...\n",
    "ggplot(data = penguins, aes(x = bill_length_mm, y = bill_depth_mm))"
   ]
  },
  {
   "cell_type": "markdown",
   "id": "7f4723bd-69f3-4618-9c7e-ca403388bcb0",
   "metadata": {},
   "source": [
    "### 2.3 기하적 레이어(Geometric layer)"
   ]
  },
  {
   "cell_type": "code",
   "execution_count": 27,
   "id": "4c3cf1cb-9327-4757-adc4-2a6cbf57fa45",
   "metadata": {
    "tags": []
   },
   "outputs": [
    {
     "data": {
      "image/png": "[encoded data removed]",
      "text/plain": [
       "plot without title"
      ]
     },
     "metadata": {
      "image/png": {
       "height": 420,
       "width": 420
      }
     },
     "output_type": "display_data"
    }
   ],
   "source": [
    "# Next layer(s): geometric object(s)\n",
    "ggplot(data = penguins, \n",
    "       aes(x = bill_length_mm, \n",
    "           y = bill_depth_mm)) + # Use the plus sign to add each additional layer\n",
    "  geom_point() # The geom layer determines what style of plot we are using."
   ]
  },
  {
   "cell_type": "markdown",
   "id": "fcc9f816-b191-4cc3-8484-3b5e058b20db",
   "metadata": {},
   "source": [
    "### 2.4 면, 축, 테마(Facets, Coordinates, Themes)"
   ]
  },
  {
   "cell_type": "code",
   "execution_count": 28,
   "id": "61075586-c384-4d99-a6d3-eac88b7dfd74",
   "metadata": {
    "tags": []
   },
   "outputs": [
    {
     "data": {
      "image/png": "[encoded data removed]",
      "text/plain": [
       "plot without title"
      ]
     },
     "metadata": {
      "image/png": {
       "height": 420,
       "width": 420
      }
     },
     "output_type": "display_data"
    }
   ],
   "source": [
    "# Next layer(s): customizations!  Facets split a plot into\n",
    "# separate windows according to some category in the data.\n",
    "ggplot(data = penguins, aes(x = bill_length_mm, y = bill_depth_mm)) +\n",
    "    geom_point() + facet_wrap(vars(species))  \n",
    "# This splits the plot into three windows: one per species"
   ]
  },
  {
   "cell_type": "markdown",
   "id": "049bcb82-6536-470a-b717-b20684846011",
   "metadata": {},
   "source": [
    "## 3. ggplot의 다양한 그래프 사용해 보기"
   ]
  },
  {
   "cell_type": "markdown",
   "id": "abf09042-8d13-41b2-b232-de137004bc87",
   "metadata": {},
   "source": [
    "### 3.1 Bar chart (Error bar)"
   ]
  },
  {
   "cell_type": "code",
   "execution_count": 33,
   "id": "3d64567e-6952-4151-a9a4-a1dab400da5a",
   "metadata": {
    "tags": []
   },
   "outputs": [
    {
     "data": {
      "image/png": "[encoded data removed]",
      "text/plain": [
       "plot without title"
      ]
     },
     "metadata": {
      "image/png": {
       "height": 420,
       "width": 420
      }
     },
     "output_type": "display_data"
    }
   ],
   "source": [
    "# Load ggplot2\n",
    "library(ggplot2)\n",
    "\n",
    "# create dummy data\n",
    "data <- data.frame(\n",
    "  name=letters[1:5],\n",
    "  value=sample(seq(4,15),5),\n",
    "  sd=c(1,0.2,3,2,4)\n",
    ")\n",
    " \n",
    "# Most basic error bar\n",
    "ggplot(data) +\n",
    "    geom_bar( aes(x=name, y=value), stat=\"identity\", fill=\"skyblue\", alpha=0.7) +\n",
    "    geom_errorbar( aes(x=name, ymin=value-sd, ymax=value+sd), width=0.4, colour=\"orange\", alpha=0.9, size=1.3)"
   ]
  },
  {
   "cell_type": "markdown",
   "id": "51a1294d-6316-431a-9823-b3b1384da73c",
   "metadata": {},
   "source": [
    "### 3.2 line chart (Basic customization)"
   ]
  },
  {
   "cell_type": "code",
   "execution_count": 34,
   "id": "621b6185-0c45-455c-909a-716952c89083",
   "metadata": {
    "tags": []
   },
   "outputs": [
    {
     "data": {
      "image/png": "[encoded data removed]",
      "text/plain": [
       "plot without title"
      ]
     },
     "metadata": {
      "image/png": {
       "height": 420,
       "width": 420
      }
     },
     "output_type": "display_data"
    }
   ],
   "source": [
    "# Libraries\n",
    "library(ggplot2)\n",
    "library(hrbrthemes)\n",
    "\n",
    "# create data\n",
    "xValue <- 1:10\n",
    "yValue <- cumsum(rnorm(10))\n",
    "data <- data.frame(xValue,yValue)\n",
    "\n",
    "# Plot\n",
    "ggplot(data, aes(x=xValue, y=yValue)) +\n",
    "  geom_line( color=\"#69b3a2\", size=2, alpha=0.9, linetype=2) +\n",
    "  theme_ipsum() +\n",
    "  ggtitle(\"Evolution of something\")"
   ]
  },
  {
   "cell_type": "markdown",
   "id": "ec44f8f2-5897-4f34-9a0f-cd6f1b82120b",
   "metadata": {},
   "source": [
    "### 3.3 Animations"
   ]
  },
  {
   "cell_type": "code",
   "execution_count": 8,
   "id": "b2573796-149b-4576-918f-b4ee810fa0a0",
   "metadata": {
    "tags": []
   },
   "outputs": [
    {
     "name": "stderr",
     "output_type": "stream",
     "text": [
      "\n",
      "Rendering [>-------------------------------------------] at 7.6 fps ~ eta: 13s\n",
      "\n",
      "Rendering [>-------------------------------------------] at 7.4 fps ~ eta: 13s\n",
      "\n",
      "Rendering [=>------------------------------------------] at 7.4 fps ~ eta: 13s\n",
      "\n",
      "Rendering [==>-----------------------------------------] at 7.1 fps ~ eta: 13s\n",
      "\n",
      "Rendering [===>------------------------------------------] at 7 fps ~ eta: 13s\n",
      "\n",
      "Rendering [====>-----------------------------------------] at 7 fps ~ eta: 13s\n",
      "\n",
      "Rendering [====>---------------------------------------] at 6.9 fps ~ eta: 13s\n",
      "\n",
      "Rendering [=====>--------------------------------------] at 6.9 fps ~ eta: 13s\n",
      "\n",
      "Rendering [======>-------------------------------------] at 6.9 fps ~ eta: 12s\n",
      "\n",
      "Rendering [======>-------------------------------------] at 6.8 fps ~ eta: 12s\n",
      "\n",
      "Rendering [======>-------------------------------------] at 6.7 fps ~ eta: 12s\n",
      "\n",
      "Rendering [=======>------------------------------------] at 6.7 fps ~ eta: 12s\n",
      "\n",
      "Rendering [========>-----------------------------------] at 6.6 fps ~ eta: 12s\n",
      "\n",
      "Rendering [=========>----------------------------------] at 6.6 fps ~ eta: 12s\n",
      "\n",
      "Rendering [==========>---------------------------------] at 6.5 fps ~ eta: 12s\n",
      "\n",
      "Rendering [==========>---------------------------------] at 6.4 fps ~ eta: 12s\n",
      "\n",
      "Rendering [===========>--------------------------------] at 6.4 fps ~ eta: 11s\n",
      "\n",
      "Rendering [===========>--------------------------------] at 6.3 fps ~ eta: 11s\n",
      "\n",
      "Rendering [============>-------------------------------] at 6.3 fps ~ eta: 11s\n",
      "\n",
      "Rendering [=============>------------------------------] at 6.3 fps ~ eta: 11s\n",
      "\n",
      "Rendering [=============>------------------------------] at 6.2 fps ~ eta: 11s\n",
      "\n",
      "Rendering [==============>-----------------------------] at 6.2 fps ~ eta: 11s\n",
      "\n",
      "Rendering [==============>-----------------------------] at 6.1 fps ~ eta: 11s\n",
      "\n",
      "Rendering [===============>----------------------------] at 6.1 fps ~ eta: 10s\n",
      "\n",
      "Rendering [================>---------------------------] at 6.1 fps ~ eta: 10s\n",
      "\n",
      "Rendering [=================>--------------------------] at 6.1 fps ~ eta: 10s\n",
      "\n",
      "Rendering [==================>---------------------------] at 6 fps ~ eta: 10s\n",
      "\n",
      "Rendering [===================>--------------------------] at 6 fps ~ eta: 10s\n",
      "\n",
      "Rendering [===================>--------------------------] at 6 fps ~ eta:  9s\n",
      "\n",
      "Rendering [====================>-------------------------] at 6 fps ~ eta:  9s\n",
      "\n",
      "Rendering [===================>------------------------] at 5.9 fps ~ eta:  9s\n",
      "\n",
      "Rendering [====================>-----------------------] at 5.9 fps ~ eta:  9s\n",
      "\n",
      "Rendering [=====================>----------------------] at 5.8 fps ~ eta:  9s\n",
      "\n",
      "Rendering [======================>---------------------] at 5.8 fps ~ eta:  8s\n",
      "\n",
      "Rendering [=======================>--------------------] at 5.8 fps ~ eta:  8s\n",
      "\n",
      "Rendering [========================>-------------------] at 5.8 fps ~ eta:  8s\n",
      "\n",
      "Rendering [========================>-------------------] at 5.9 fps ~ eta:  7s\n",
      "\n",
      "Rendering [=========================>------------------] at 5.9 fps ~ eta:  7s\n",
      "\n",
      "Rendering [==========================>-----------------] at 5.9 fps ~ eta:  7s\n",
      "\n",
      "Rendering [==========================>-----------------] at 5.9 fps ~ eta:  6s\n",
      "\n",
      "Rendering [===========================>----------------] at 5.9 fps ~ eta:  6s\n",
      "\n",
      "Rendering [============================>---------------] at 5.9 fps ~ eta:  6s\n",
      "\n",
      "Rendering [=============================>--------------] at 5.9 fps ~ eta:  5s\n",
      "\n",
      "Rendering [==============================>-------------] at 5.9 fps ~ eta:  5s\n",
      "\n",
      "Rendering [===============================>------------] at 5.9 fps ~ eta:  5s\n",
      "\n",
      "Rendering [================================>-----------] at 5.9 fps ~ eta:  4s\n",
      "\n",
      "Rendering [=================================>----------] at 5.9 fps ~ eta:  4s\n",
      "\n",
      "Rendering [==================================>---------] at 5.9 fps ~ eta:  4s\n",
      "\n",
      "Rendering [==================================>---------] at 5.9 fps ~ eta:  3s\n",
      "\n",
      "Rendering [===================================>--------] at 5.9 fps ~ eta:  3s\n",
      "\n",
      "Rendering [====================================>-------] at 5.8 fps ~ eta:  3s\n",
      "\n",
      "Rendering [=====================================>------] at 5.8 fps ~ eta:  2s\n",
      "\n",
      "Rendering [======================================>-----] at 5.8 fps ~ eta:  2s\n",
      "\n",
      "Rendering [=======================================>----] at 5.8 fps ~ eta:  2s\n",
      "\n",
      "Rendering [=======================================>----] at 5.8 fps ~ eta:  1s\n",
      "\n",
      "Rendering [========================================>---] at 5.8 fps ~ eta:  1s\n",
      "\n",
      "Rendering [========================================>---] at 5.7 fps ~ eta:  1s\n",
      "\n",
      "Rendering [=========================================>--] at 5.7 fps ~ eta:  1s\n",
      "\n",
      "Rendering [==========================================>-] at 5.7 fps ~ eta:  1s\n",
      "\n",
      "Rendering [==========================================>-] at 5.7 fps ~ eta:  0s\n",
      "\n",
      "Rendering [===========================================>] at 5.7 fps ~ eta:  0s\n",
      "\n",
      "Rendering [============================================] at 5.7 fps ~ eta:  0s\n",
      "                                                                              \n",
      "\n",
      "Warning message:\n",
      "\"file_renderer failed to copy frames to the destination directory\"\n",
      "ERROR while rich displaying an object: Error in loadNamespace(x): there is no package called 'plotly'\n",
      "\n",
      "Traceback:\n",
      "1. tryCatch(withCallingHandlers({\n",
      " .     if (!mime %in% names(repr::mime2repr)) \n",
      " .         stop(\"No repr_* for mimetype \", mime, \" in repr::mime2repr\")\n",
      " .     rpr <- repr::mime2repr[[mime]](obj)\n",
      " .     if (is.null(rpr)) \n",
      " .         return(NULL)\n",
      " .     prepare_content(is.raw(rpr), rpr)\n",
      " . }, error = error_handler), error = outer_handler)\n",
      "2. tryCatchList(expr, classes, parentenv, handlers)\n",
      "3. tryCatchOne(expr, names, parentenv, handlers[[1L]])\n",
      "4. doTryCatch(return(expr), name, parentenv, handler)\n",
      "5. withCallingHandlers({\n",
      " .     if (!mime %in% names(repr::mime2repr)) \n",
      " .         stop(\"No repr_* for mimetype \", mime, \" in repr::mime2repr\")\n",
      " .     rpr <- repr::mime2repr[[mime]](obj)\n",
      " .     if (is.null(rpr)) \n",
      " .         return(NULL)\n",
      " .     prepare_content(is.raw(rpr), rpr)\n",
      " . }, error = error_handler)\n",
      "6. repr::mime2repr[[mime]](obj)\n",
      "7. repr_plotly1.ggplot(obj)\n",
      "8. fromJSON(plotly::plotly_json(obj, jsonedit = FALSE))\n",
      "9. loadNamespace(x)\n",
      "10. withRestarts(stop(cond), retry_loadNamespace = function() NULL)\n",
      "11. withOneRestart(expr, restarts[[1L]])\n",
      "12. doWithOneRestart(return(expr), restart)\n"
     ]
    },
    {
     "data": {
      "text/plain": [
       "  [1] \"./gganim_plot0001.png\" \"./gganim_plot0002.png\" \"./gganim_plot0003.png\"\n",
       "  [4] \"./gganim_plot0004.png\" \"./gganim_plot0005.png\" \"./gganim_plot0006.png\"\n",
       "  [7] \"./gganim_plot0007.png\" \"./gganim_plot0008.png\" \"./gganim_plot0009.png\"\n",
       " [10] \"./gganim_plot0010.png\" \"./gganim_plot0011.png\" \"./gganim_plot0012.png\"\n",
       " [13] \"./gganim_plot0013.png\" \"./gganim_plot0014.png\" \"./gganim_plot0015.png\"\n",
       " [16] \"./gganim_plot0016.png\" \"./gganim_plot0017.png\" \"./gganim_plot0018.png\"\n",
       " [19] \"./gganim_plot0019.png\" \"./gganim_plot0020.png\" \"./gganim_plot0021.png\"\n",
       " [22] \"./gganim_plot0022.png\" \"./gganim_plot0023.png\" \"./gganim_plot0024.png\"\n",
       " [25] \"./gganim_plot0025.png\" \"./gganim_plot0026.png\" \"./gganim_plot0027.png\"\n",
       " [28] \"./gganim_plot0028.png\" \"./gganim_plot0029.png\" \"./gganim_plot0030.png\"\n",
       " [31] \"./gganim_plot0031.png\" \"./gganim_plot0032.png\" \"./gganim_plot0033.png\"\n",
       " [34] \"./gganim_plot0034.png\" \"./gganim_plot0035.png\" \"./gganim_plot0036.png\"\n",
       " [37] \"./gganim_plot0037.png\" \"./gganim_plot0038.png\" \"./gganim_plot0039.png\"\n",
       " [40] \"./gganim_plot0040.png\" \"./gganim_plot0041.png\" \"./gganim_plot0042.png\"\n",
       " [43] \"./gganim_plot0043.png\" \"./gganim_plot0044.png\" \"./gganim_plot0045.png\"\n",
       " [46] \"./gganim_plot0046.png\" \"./gganim_plot0047.png\" \"./gganim_plot0048.png\"\n",
       " [49] \"./gganim_plot0049.png\" \"./gganim_plot0050.png\" \"./gganim_plot0051.png\"\n",
       " [52] \"./gganim_plot0052.png\" \"./gganim_plot0053.png\" \"./gganim_plot0054.png\"\n",
       " [55] \"./gganim_plot0055.png\" \"./gganim_plot0056.png\" \"./gganim_plot0057.png\"\n",
       " [58] \"./gganim_plot0058.png\" \"./gganim_plot0059.png\" \"./gganim_plot0060.png\"\n",
       " [61] \"./gganim_plot0061.png\" \"./gganim_plot0062.png\" \"./gganim_plot0063.png\"\n",
       " [64] \"./gganim_plot0064.png\" \"./gganim_plot0065.png\" \"./gganim_plot0066.png\"\n",
       " [67] \"./gganim_plot0067.png\" \"./gganim_plot0068.png\" \"./gganim_plot0069.png\"\n",
       " [70] \"./gganim_plot0070.png\" \"./gganim_plot0071.png\" \"./gganim_plot0072.png\"\n",
       " [73] \"./gganim_plot0073.png\" \"./gganim_plot0074.png\" \"./gganim_plot0075.png\"\n",
       " [76] \"./gganim_plot0076.png\" \"./gganim_plot0077.png\" \"./gganim_plot0078.png\"\n",
       " [79] \"./gganim_plot0079.png\" \"./gganim_plot0080.png\" \"./gganim_plot0081.png\"\n",
       " [82] \"./gganim_plot0082.png\" \"./gganim_plot0083.png\" \"./gganim_plot0084.png\"\n",
       " [85] \"./gganim_plot0085.png\" \"./gganim_plot0086.png\" \"./gganim_plot0087.png\"\n",
       " [88] \"./gganim_plot0088.png\" \"./gganim_plot0089.png\" \"./gganim_plot0090.png\"\n",
       " [91] \"./gganim_plot0091.png\" \"./gganim_plot0092.png\" \"./gganim_plot0093.png\"\n",
       " [94] \"./gganim_plot0094.png\" \"./gganim_plot0095.png\" \"./gganim_plot0096.png\"\n",
       " [97] \"./gganim_plot0097.png\" \"./gganim_plot0098.png\" \"./gganim_plot0099.png\"\n",
       "[100] \"./gganim_plot0100.png\"\n",
       "attr(,\"frame_vars\")\n",
       "    frame nframes progress frame_time\n",
       "1       1     100     0.01       1952\n",
       "2       2     100     0.02       1953\n",
       "3       3     100     0.03       1953\n",
       "4       4     100     0.04       1954\n",
       "5       5     100     0.05       1954\n",
       "6       6     100     0.06       1955\n",
       "7       7     100     0.07       1955\n",
       "8       8     100     0.08       1956\n",
       "9       9     100     0.09       1956\n",
       "10     10     100     0.10       1957\n",
       "11     11     100     0.11       1958\n",
       "12     12     100     0.12       1958\n",
       "13     13     100     0.13       1959\n",
       "14     14     100     0.14       1959\n",
       "15     15     100     0.15       1960\n",
       "16     16     100     0.16       1960\n",
       "17     17     100     0.17       1961\n",
       "18     18     100     0.18       1961\n",
       "19     19     100     0.19       1962\n",
       "20     20     100     0.20       1963\n",
       "21     21     100     0.21       1963\n",
       "22     22     100     0.22       1964\n",
       "23     23     100     0.23       1964\n",
       "24     24     100     0.24       1965\n",
       "25     25     100     0.25       1965\n",
       "26     26     100     0.26       1966\n",
       "27     27     100     0.27       1966\n",
       "28     28     100     0.28       1967\n",
       "29     29     100     0.29       1968\n",
       "30     30     100     0.30       1968\n",
       "31     31     100     0.31       1969\n",
       "32     32     100     0.32       1969\n",
       "33     33     100     0.33       1970\n",
       "34     34     100     0.34       1970\n",
       "35     35     100     0.35       1971\n",
       "36     36     100     0.36       1971\n",
       "37     37     100     0.37       1972\n",
       "38     38     100     0.38       1973\n",
       "39     39     100     0.39       1973\n",
       "40     40     100     0.40       1974\n",
       "41     41     100     0.41       1974\n",
       "42     42     100     0.42       1975\n",
       "43     43     100     0.43       1975\n",
       "44     44     100     0.44       1976\n",
       "45     45     100     0.45       1976\n",
       "46     46     100     0.46       1977\n",
       "47     47     100     0.47       1978\n",
       "48     48     100     0.48       1978\n",
       "49     49     100     0.49       1979\n",
       "50     50     100     0.50       1979\n",
       "51     51     100     0.51       1980\n",
       "52     52     100     0.52       1980\n",
       "53     53     100     0.53       1981\n",
       "54     54     100     0.54       1981\n",
       "55     55     100     0.55       1982\n",
       "56     56     100     0.56       1983\n",
       "57     57     100     0.57       1983\n",
       "58     58     100     0.58       1984\n",
       "59     59     100     0.59       1984\n",
       "60     60     100     0.60       1985\n",
       "61     61     100     0.61       1985\n",
       "62     62     100     0.62       1986\n",
       "63     63     100     0.63       1986\n",
       "64     64     100     0.64       1987\n",
       "65     65     100     0.65       1988\n",
       "66     66     100     0.66       1988\n",
       "67     67     100     0.67       1989\n",
       "68     68     100     0.68       1989\n",
       "69     69     100     0.69       1990\n",
       "70     70     100     0.70       1990\n",
       "71     71     100     0.71       1991\n",
       "72     72     100     0.72       1991\n",
       "73     73     100     0.73       1992\n",
       "74     74     100     0.74       1993\n",
       "75     75     100     0.75       1993\n",
       "76     76     100     0.76       1994\n",
       "77     77     100     0.77       1994\n",
       "78     78     100     0.78       1995\n",
       "79     79     100     0.79       1995\n",
       "80     80     100     0.80       1996\n",
       "81     81     100     0.81       1996\n",
       "82     82     100     0.82       1997\n",
       "83     83     100     0.83       1998\n",
       "84     84     100     0.84       1998\n",
       "85     85     100     0.85       1999\n",
       "86     86     100     0.86       1999\n",
       "87     87     100     0.87       2000\n",
       "88     88     100     0.88       2000\n",
       "89     89     100     0.89       2001\n",
       "90     90     100     0.90       2001\n",
       "91     91     100     0.91       2002\n",
       "92     92     100     0.92       2003\n",
       "93     93     100     0.93       2003\n",
       "94     94     100     0.94       2004\n",
       "95     95     100     0.95       2004\n",
       "96     96     100     0.96       2005\n",
       "97     97     100     0.97       2005\n",
       "98     98     100     0.98       2006\n",
       "99     99     100     0.99       2006\n",
       "100   100     100     1.00       2007\n",
       "                                                                              frame_source\n",
       "1   C:\\\\Users\\\\BEGAS-~1\\\\AppData\\\\Local\\\\Temp\\\\RtmpKWvcSu\\\\13882e778b0/gganim_plot0001.png\n",
       "2   C:\\\\Users\\\\BEGAS-~1\\\\AppData\\\\Local\\\\Temp\\\\RtmpKWvcSu\\\\13882e778b0/gganim_plot0002.png\n",
       "3   C:\\\\Users\\\\BEGAS-~1\\\\AppData\\\\Local\\\\Temp\\\\RtmpKWvcSu\\\\13882e778b0/gganim_plot0003.png\n",
       "4   C:\\\\Users\\\\BEGAS-~1\\\\AppData\\\\Local\\\\Temp\\\\RtmpKWvcSu\\\\13882e778b0/gganim_plot0004.png\n",
       "5   C:\\\\Users\\\\BEGAS-~1\\\\AppData\\\\Local\\\\Temp\\\\RtmpKWvcSu\\\\13882e778b0/gganim_plot0005.png\n",
       "6   C:\\\\Users\\\\BEGAS-~1\\\\AppData\\\\Local\\\\Temp\\\\RtmpKWvcSu\\\\13882e778b0/gganim_plot0006.png\n",
       "7   C:\\\\Users\\\\BEGAS-~1\\\\AppData\\\\Local\\\\Temp\\\\RtmpKWvcSu\\\\13882e778b0/gganim_plot0007.png\n",
       "8   C:\\\\Users\\\\BEGAS-~1\\\\AppData\\\\Local\\\\Temp\\\\RtmpKWvcSu\\\\13882e778b0/gganim_plot0008.png\n",
       "9   C:\\\\Users\\\\BEGAS-~1\\\\AppData\\\\Local\\\\Temp\\\\RtmpKWvcSu\\\\13882e778b0/gganim_plot0009.png\n",
       "10  C:\\\\Users\\\\BEGAS-~1\\\\AppData\\\\Local\\\\Temp\\\\RtmpKWvcSu\\\\13882e778b0/gganim_plot0010.png\n",
       "11  C:\\\\Users\\\\BEGAS-~1\\\\AppData\\\\Local\\\\Temp\\\\RtmpKWvcSu\\\\13882e778b0/gganim_plot0011.png\n",
       "12  C:\\\\Users\\\\BEGAS-~1\\\\AppData\\\\Local\\\\Temp\\\\RtmpKWvcSu\\\\13882e778b0/gganim_plot0012.png\n",
       "13  C:\\\\Users\\\\BEGAS-~1\\\\AppData\\\\Local\\\\Temp\\\\RtmpKWvcSu\\\\13882e778b0/gganim_plot0013.png\n",
       "14  C:\\\\Users\\\\BEGAS-~1\\\\AppData\\\\Local\\\\Temp\\\\RtmpKWvcSu\\\\13882e778b0/gganim_plot0014.png\n",
       "15  C:\\\\Users\\\\BEGAS-~1\\\\AppData\\\\Local\\\\Temp\\\\RtmpKWvcSu\\\\13882e778b0/gganim_plot0015.png\n",
       "16  C:\\\\Users\\\\BEGAS-~1\\\\AppData\\\\Local\\\\Temp\\\\RtmpKWvcSu\\\\13882e778b0/gganim_plot0016.png\n",
       "17  C:\\\\Users\\\\BEGAS-~1\\\\AppData\\\\Local\\\\Temp\\\\RtmpKWvcSu\\\\13882e778b0/gganim_plot0017.png\n",
       "18  C:\\\\Users\\\\BEGAS-~1\\\\AppData\\\\Local\\\\Temp\\\\RtmpKWvcSu\\\\13882e778b0/gganim_plot0018.png\n",
       "19  C:\\\\Users\\\\BEGAS-~1\\\\AppData\\\\Local\\\\Temp\\\\RtmpKWvcSu\\\\13882e778b0/gganim_plot0019.png\n",
       "20  C:\\\\Users\\\\BEGAS-~1\\\\AppData\\\\Local\\\\Temp\\\\RtmpKWvcSu\\\\13882e778b0/gganim_plot0020.png\n",
       "21  C:\\\\Users\\\\BEGAS-~1\\\\AppData\\\\Local\\\\Temp\\\\RtmpKWvcSu\\\\13882e778b0/gganim_plot0021.png\n",
       "22  C:\\\\Users\\\\BEGAS-~1\\\\AppData\\\\Local\\\\Temp\\\\RtmpKWvcSu\\\\13882e778b0/gganim_plot0022.png\n",
       "23  C:\\\\Users\\\\BEGAS-~1\\\\AppData\\\\Local\\\\Temp\\\\RtmpKWvcSu\\\\13882e778b0/gganim_plot0023.png\n",
       "24  C:\\\\Users\\\\BEGAS-~1\\\\AppData\\\\Local\\\\Temp\\\\RtmpKWvcSu\\\\13882e778b0/gganim_plot0024.png\n",
       "25  C:\\\\Users\\\\BEGAS-~1\\\\AppData\\\\Local\\\\Temp\\\\RtmpKWvcSu\\\\13882e778b0/gganim_plot0025.png\n",
       "26  C:\\\\Users\\\\BEGAS-~1\\\\AppData\\\\Local\\\\Temp\\\\RtmpKWvcSu\\\\13882e778b0/gganim_plot0026.png\n",
       "27  C:\\\\Users\\\\BEGAS-~1\\\\AppData\\\\Local\\\\Temp\\\\RtmpKWvcSu\\\\13882e778b0/gganim_plot0027.png\n",
       "28  C:\\\\Users\\\\BEGAS-~1\\\\AppData\\\\Local\\\\Temp\\\\RtmpKWvcSu\\\\13882e778b0/gganim_plot0028.png\n",
       "29  C:\\\\Users\\\\BEGAS-~1\\\\AppData\\\\Local\\\\Temp\\\\RtmpKWvcSu\\\\13882e778b0/gganim_plot0029.png\n",
       "30  C:\\\\Users\\\\BEGAS-~1\\\\AppData\\\\Local\\\\Temp\\\\RtmpKWvcSu\\\\13882e778b0/gganim_plot0030.png\n",
       "31  C:\\\\Users\\\\BEGAS-~1\\\\AppData\\\\Local\\\\Temp\\\\RtmpKWvcSu\\\\13882e778b0/gganim_plot0031.png\n",
       "32  C:\\\\Users\\\\BEGAS-~1\\\\AppData\\\\Local\\\\Temp\\\\RtmpKWvcSu\\\\13882e778b0/gganim_plot0032.png\n",
       "33  C:\\\\Users\\\\BEGAS-~1\\\\AppData\\\\Local\\\\Temp\\\\RtmpKWvcSu\\\\13882e778b0/gganim_plot0033.png\n",
       "34  C:\\\\Users\\\\BEGAS-~1\\\\AppData\\\\Local\\\\Temp\\\\RtmpKWvcSu\\\\13882e778b0/gganim_plot0034.png\n",
       "35  C:\\\\Users\\\\BEGAS-~1\\\\AppData\\\\Local\\\\Temp\\\\RtmpKWvcSu\\\\13882e778b0/gganim_plot0035.png\n",
       "36  C:\\\\Users\\\\BEGAS-~1\\\\AppData\\\\Local\\\\Temp\\\\RtmpKWvcSu\\\\13882e778b0/gganim_plot0036.png\n",
       "37  C:\\\\Users\\\\BEGAS-~1\\\\AppData\\\\Local\\\\Temp\\\\RtmpKWvcSu\\\\13882e778b0/gganim_plot0037.png\n",
       "38  C:\\\\Users\\\\BEGAS-~1\\\\AppData\\\\Local\\\\Temp\\\\RtmpKWvcSu\\\\13882e778b0/gganim_plot0038.png\n",
       "39  C:\\\\Users\\\\BEGAS-~1\\\\AppData\\\\Local\\\\Temp\\\\RtmpKWvcSu\\\\13882e778b0/gganim_plot0039.png\n",
       "40  C:\\\\Users\\\\BEGAS-~1\\\\AppData\\\\Local\\\\Temp\\\\RtmpKWvcSu\\\\13882e778b0/gganim_plot0040.png\n",
       "41  C:\\\\Users\\\\BEGAS-~1\\\\AppData\\\\Local\\\\Temp\\\\RtmpKWvcSu\\\\13882e778b0/gganim_plot0041.png\n",
       "42  C:\\\\Users\\\\BEGAS-~1\\\\AppData\\\\Local\\\\Temp\\\\RtmpKWvcSu\\\\13882e778b0/gganim_plot0042.png\n",
       "43  C:\\\\Users\\\\BEGAS-~1\\\\AppData\\\\Local\\\\Temp\\\\RtmpKWvcSu\\\\13882e778b0/gganim_plot0043.png\n",
       "44  C:\\\\Users\\\\BEGAS-~1\\\\AppData\\\\Local\\\\Temp\\\\RtmpKWvcSu\\\\13882e778b0/gganim_plot0044.png\n",
       "45  C:\\\\Users\\\\BEGAS-~1\\\\AppData\\\\Local\\\\Temp\\\\RtmpKWvcSu\\\\13882e778b0/gganim_plot0045.png\n",
       "46  C:\\\\Users\\\\BEGAS-~1\\\\AppData\\\\Local\\\\Temp\\\\RtmpKWvcSu\\\\13882e778b0/gganim_plot0046.png\n",
       "47  C:\\\\Users\\\\BEGAS-~1\\\\AppData\\\\Local\\\\Temp\\\\RtmpKWvcSu\\\\13882e778b0/gganim_plot0047.png\n",
       "48  C:\\\\Users\\\\BEGAS-~1\\\\AppData\\\\Local\\\\Temp\\\\RtmpKWvcSu\\\\13882e778b0/gganim_plot0048.png\n",
       "49  C:\\\\Users\\\\BEGAS-~1\\\\AppData\\\\Local\\\\Temp\\\\RtmpKWvcSu\\\\13882e778b0/gganim_plot0049.png\n",
       "50  C:\\\\Users\\\\BEGAS-~1\\\\AppData\\\\Local\\\\Temp\\\\RtmpKWvcSu\\\\13882e778b0/gganim_plot0050.png\n",
       "51  C:\\\\Users\\\\BEGAS-~1\\\\AppData\\\\Local\\\\Temp\\\\RtmpKWvcSu\\\\13882e778b0/gganim_plot0051.png\n",
       "52  C:\\\\Users\\\\BEGAS-~1\\\\AppData\\\\Local\\\\Temp\\\\RtmpKWvcSu\\\\13882e778b0/gganim_plot0052.png\n",
       "53  C:\\\\Users\\\\BEGAS-~1\\\\AppData\\\\Local\\\\Temp\\\\RtmpKWvcSu\\\\13882e778b0/gganim_plot0053.png\n",
       "54  C:\\\\Users\\\\BEGAS-~1\\\\AppData\\\\Local\\\\Temp\\\\RtmpKWvcSu\\\\13882e778b0/gganim_plot0054.png\n",
       "55  C:\\\\Users\\\\BEGAS-~1\\\\AppData\\\\Local\\\\Temp\\\\RtmpKWvcSu\\\\13882e778b0/gganim_plot0055.png\n",
       "56  C:\\\\Users\\\\BEGAS-~1\\\\AppData\\\\Local\\\\Temp\\\\RtmpKWvcSu\\\\13882e778b0/gganim_plot0056.png\n",
       "57  C:\\\\Users\\\\BEGAS-~1\\\\AppData\\\\Local\\\\Temp\\\\RtmpKWvcSu\\\\13882e778b0/gganim_plot0057.png\n",
       "58  C:\\\\Users\\\\BEGAS-~1\\\\AppData\\\\Local\\\\Temp\\\\RtmpKWvcSu\\\\13882e778b0/gganim_plot0058.png\n",
       "59  C:\\\\Users\\\\BEGAS-~1\\\\AppData\\\\Local\\\\Temp\\\\RtmpKWvcSu\\\\13882e778b0/gganim_plot0059.png\n",
       "60  C:\\\\Users\\\\BEGAS-~1\\\\AppData\\\\Local\\\\Temp\\\\RtmpKWvcSu\\\\13882e778b0/gganim_plot0060.png\n",
       "61  C:\\\\Users\\\\BEGAS-~1\\\\AppData\\\\Local\\\\Temp\\\\RtmpKWvcSu\\\\13882e778b0/gganim_plot0061.png\n",
       "62  C:\\\\Users\\\\BEGAS-~1\\\\AppData\\\\Local\\\\Temp\\\\RtmpKWvcSu\\\\13882e778b0/gganim_plot0062.png\n",
       "63  C:\\\\Users\\\\BEGAS-~1\\\\AppData\\\\Local\\\\Temp\\\\RtmpKWvcSu\\\\13882e778b0/gganim_plot0063.png\n",
       "64  C:\\\\Users\\\\BEGAS-~1\\\\AppData\\\\Local\\\\Temp\\\\RtmpKWvcSu\\\\13882e778b0/gganim_plot0064.png\n",
       "65  C:\\\\Users\\\\BEGAS-~1\\\\AppData\\\\Local\\\\Temp\\\\RtmpKWvcSu\\\\13882e778b0/gganim_plot0065.png\n",
       "66  C:\\\\Users\\\\BEGAS-~1\\\\AppData\\\\Local\\\\Temp\\\\RtmpKWvcSu\\\\13882e778b0/gganim_plot0066.png\n",
       "67  C:\\\\Users\\\\BEGAS-~1\\\\AppData\\\\Local\\\\Temp\\\\RtmpKWvcSu\\\\13882e778b0/gganim_plot0067.png\n",
       "68  C:\\\\Users\\\\BEGAS-~1\\\\AppData\\\\Local\\\\Temp\\\\RtmpKWvcSu\\\\13882e778b0/gganim_plot0068.png\n",
       "69  C:\\\\Users\\\\BEGAS-~1\\\\AppData\\\\Local\\\\Temp\\\\RtmpKWvcSu\\\\13882e778b0/gganim_plot0069.png\n",
       "70  C:\\\\Users\\\\BEGAS-~1\\\\AppData\\\\Local\\\\Temp\\\\RtmpKWvcSu\\\\13882e778b0/gganim_plot0070.png\n",
       "71  C:\\\\Users\\\\BEGAS-~1\\\\AppData\\\\Local\\\\Temp\\\\RtmpKWvcSu\\\\13882e778b0/gganim_plot0071.png\n",
       "72  C:\\\\Users\\\\BEGAS-~1\\\\AppData\\\\Local\\\\Temp\\\\RtmpKWvcSu\\\\13882e778b0/gganim_plot0072.png\n",
       "73  C:\\\\Users\\\\BEGAS-~1\\\\AppData\\\\Local\\\\Temp\\\\RtmpKWvcSu\\\\13882e778b0/gganim_plot0073.png\n",
       "74  C:\\\\Users\\\\BEGAS-~1\\\\AppData\\\\Local\\\\Temp\\\\RtmpKWvcSu\\\\13882e778b0/gganim_plot0074.png\n",
       "75  C:\\\\Users\\\\BEGAS-~1\\\\AppData\\\\Local\\\\Temp\\\\RtmpKWvcSu\\\\13882e778b0/gganim_plot0075.png\n",
       "76  C:\\\\Users\\\\BEGAS-~1\\\\AppData\\\\Local\\\\Temp\\\\RtmpKWvcSu\\\\13882e778b0/gganim_plot0076.png\n",
       "77  C:\\\\Users\\\\BEGAS-~1\\\\AppData\\\\Local\\\\Temp\\\\RtmpKWvcSu\\\\13882e778b0/gganim_plot0077.png\n",
       "78  C:\\\\Users\\\\BEGAS-~1\\\\AppData\\\\Local\\\\Temp\\\\RtmpKWvcSu\\\\13882e778b0/gganim_plot0078.png\n",
       "79  C:\\\\Users\\\\BEGAS-~1\\\\AppData\\\\Local\\\\Temp\\\\RtmpKWvcSu\\\\13882e778b0/gganim_plot0079.png\n",
       "80  C:\\\\Users\\\\BEGAS-~1\\\\AppData\\\\Local\\\\Temp\\\\RtmpKWvcSu\\\\13882e778b0/gganim_plot0080.png\n",
       "81  C:\\\\Users\\\\BEGAS-~1\\\\AppData\\\\Local\\\\Temp\\\\RtmpKWvcSu\\\\13882e778b0/gganim_plot0081.png\n",
       "82  C:\\\\Users\\\\BEGAS-~1\\\\AppData\\\\Local\\\\Temp\\\\RtmpKWvcSu\\\\13882e778b0/gganim_plot0082.png\n",
       "83  C:\\\\Users\\\\BEGAS-~1\\\\AppData\\\\Local\\\\Temp\\\\RtmpKWvcSu\\\\13882e778b0/gganim_plot0083.png\n",
       "84  C:\\\\Users\\\\BEGAS-~1\\\\AppData\\\\Local\\\\Temp\\\\RtmpKWvcSu\\\\13882e778b0/gganim_plot0084.png\n",
       "85  C:\\\\Users\\\\BEGAS-~1\\\\AppData\\\\Local\\\\Temp\\\\RtmpKWvcSu\\\\13882e778b0/gganim_plot0085.png\n",
       "86  C:\\\\Users\\\\BEGAS-~1\\\\AppData\\\\Local\\\\Temp\\\\RtmpKWvcSu\\\\13882e778b0/gganim_plot0086.png\n",
       "87  C:\\\\Users\\\\BEGAS-~1\\\\AppData\\\\Local\\\\Temp\\\\RtmpKWvcSu\\\\13882e778b0/gganim_plot0087.png\n",
       "88  C:\\\\Users\\\\BEGAS-~1\\\\AppData\\\\Local\\\\Temp\\\\RtmpKWvcSu\\\\13882e778b0/gganim_plot0088.png\n",
       "89  C:\\\\Users\\\\BEGAS-~1\\\\AppData\\\\Local\\\\Temp\\\\RtmpKWvcSu\\\\13882e778b0/gganim_plot0089.png\n",
       "90  C:\\\\Users\\\\BEGAS-~1\\\\AppData\\\\Local\\\\Temp\\\\RtmpKWvcSu\\\\13882e778b0/gganim_plot0090.png\n",
       "91  C:\\\\Users\\\\BEGAS-~1\\\\AppData\\\\Local\\\\Temp\\\\RtmpKWvcSu\\\\13882e778b0/gganim_plot0091.png\n",
       "92  C:\\\\Users\\\\BEGAS-~1\\\\AppData\\\\Local\\\\Temp\\\\RtmpKWvcSu\\\\13882e778b0/gganim_plot0092.png\n",
       "93  C:\\\\Users\\\\BEGAS-~1\\\\AppData\\\\Local\\\\Temp\\\\RtmpKWvcSu\\\\13882e778b0/gganim_plot0093.png\n",
       "94  C:\\\\Users\\\\BEGAS-~1\\\\AppData\\\\Local\\\\Temp\\\\RtmpKWvcSu\\\\13882e778b0/gganim_plot0094.png\n",
       "95  C:\\\\Users\\\\BEGAS-~1\\\\AppData\\\\Local\\\\Temp\\\\RtmpKWvcSu\\\\13882e778b0/gganim_plot0095.png\n",
       "96  C:\\\\Users\\\\BEGAS-~1\\\\AppData\\\\Local\\\\Temp\\\\RtmpKWvcSu\\\\13882e778b0/gganim_plot0096.png\n",
       "97  C:\\\\Users\\\\BEGAS-~1\\\\AppData\\\\Local\\\\Temp\\\\RtmpKWvcSu\\\\13882e778b0/gganim_plot0097.png\n",
       "98  C:\\\\Users\\\\BEGAS-~1\\\\AppData\\\\Local\\\\Temp\\\\RtmpKWvcSu\\\\13882e778b0/gganim_plot0098.png\n",
       "99  C:\\\\Users\\\\BEGAS-~1\\\\AppData\\\\Local\\\\Temp\\\\RtmpKWvcSu\\\\13882e778b0/gganim_plot0099.png\n",
       "100 C:\\\\Users\\\\BEGAS-~1\\\\AppData\\\\Local\\\\Temp\\\\RtmpKWvcSu\\\\13882e778b0/gganim_plot0100.png"
      ]
     },
     "metadata": {},
     "output_type": "display_data"
    },
    {
     "ename": "ERROR",
     "evalue": "Error: The animation object does not specify a save_animation method\n",
     "output_type": "error",
     "traceback": [
      "Error: The animation object does not specify a save_animation method\nTraceback:\n",
      "1. anim_save(\"test.gif\")",
      "2. save_animation(animation, filename)",
      "3. save_animation.default(animation, filename)",
      "4. stop(\"The animation object does not specify a save_animation method\", \n .     call. = FALSE)"
     ]
    }
   ],
   "source": [
    "# Get data:\n",
    "library(gapminder)\n",
    " \n",
    "# Charge libraries:\n",
    "library(ggplot2)\n",
    "library(gganimate)\n",
    " \n",
    "# Make a ggplot, but add frame=year: one image per year\n",
    "ggplot(gapminder, aes(gdpPercap, lifeExp, size = pop, color = continent)) +\n",
    "  geom_point() +\n",
    "  scale_x_log10() +\n",
    "  theme_bw() +\n",
    "  # gganimate specific bits:\n",
    "  labs(title = 'Year: {frame_time}', x = 'GDP per capita', y = 'life expectancy') +\n",
    "  transition_time(year) +\n",
    "  ease_aes('linear')\n",
    "\n",
    "# Save at gif:\n",
    "anim_save(\"test.gif\")"
   ]
  },
  {
   "cell_type": "code",
   "execution_count": 43,
   "id": "5a8c702d-e360-4575-9735-8fc2513567d4",
   "metadata": {
    "tags": []
   },
   "outputs": [
    {
     "name": "stderr",
     "output_type": "stream",
     "text": [
      "\n",
      "Rendering [>-------------------------------------------] at 6.3 fps ~ eta: 15s\n",
      "\n",
      "Rendering [>-------------------------------------------] at 6.2 fps ~ eta: 16s\n",
      "\n",
      "Rendering [=>------------------------------------------] at 6.1 fps ~ eta: 16s\n",
      "\n",
      "Rendering [==>-----------------------------------------] at 6.1 fps ~ eta: 15s\n",
      "\n",
      "Rendering [==>-------------------------------------------] at 6 fps ~ eta: 15s\n",
      "\n",
      "Rendering [===>------------------------------------------] at 6 fps ~ eta: 15s\n",
      "\n",
      "Rendering [====>-----------------------------------------] at 6 fps ~ eta: 15s\n",
      "\n",
      "Rendering [=====>----------------------------------------] at 6 fps ~ eta: 15s\n",
      "\n",
      "Rendering [=====>--------------------------------------] at 5.9 fps ~ eta: 15s\n",
      "\n",
      "Rendering [======>-------------------------------------] at 5.9 fps ~ eta: 14s\n",
      "\n",
      "Rendering [=======>------------------------------------] at 5.9 fps ~ eta: 14s\n",
      "\n",
      "Rendering [=======>------------------------------------] at 5.8 fps ~ eta: 14s\n",
      "\n",
      "Rendering [========>-----------------------------------] at 5.8 fps ~ eta: 14s\n",
      "\n",
      "Rendering [=========>----------------------------------] at 5.7 fps ~ eta: 14s\n",
      "\n",
      "Rendering [=========>----------------------------------] at 5.7 fps ~ eta: 13s\n",
      "\n",
      "Rendering [==========>---------------------------------] at 5.7 fps ~ eta: 13s\n",
      "\n",
      "Rendering [===========>--------------------------------] at 5.7 fps ~ eta: 13s\n",
      "\n",
      "Rendering [============>-------------------------------] at 5.7 fps ~ eta: 13s\n",
      "\n",
      "Rendering [============>-------------------------------] at 5.7 fps ~ eta: 12s\n",
      "\n",
      "Rendering [=============>------------------------------] at 5.7 fps ~ eta: 12s\n",
      "\n",
      "Rendering [==============>-----------------------------] at 5.7 fps ~ eta: 12s\n",
      "\n",
      "Rendering [==============>-----------------------------] at 5.7 fps ~ eta: 11s\n",
      "\n",
      "Rendering [===============>----------------------------] at 5.7 fps ~ eta: 11s\n",
      "\n",
      "Rendering [===============>----------------------------] at 5.6 fps ~ eta: 11s\n",
      "\n",
      "Rendering [================>---------------------------] at 5.6 fps ~ eta: 11s\n",
      "\n",
      "Rendering [=================>--------------------------] at 5.6 fps ~ eta: 11s\n",
      "\n",
      "Rendering [=================>--------------------------] at 5.6 fps ~ eta: 10s\n",
      "\n",
      "Rendering [==================>-------------------------] at 5.6 fps ~ eta: 10s\n",
      "\n",
      "Rendering [==================>-------------------------] at 5.4 fps ~ eta: 10s\n",
      "\n",
      "Rendering [===================>------------------------] at 5.4 fps ~ eta: 10s\n",
      "\n",
      "Rendering [====================>-----------------------] at 5.4 fps ~ eta: 10s\n",
      "\n",
      "Rendering [====================>-----------------------] at 5.3 fps ~ eta: 10s\n",
      "\n",
      "Rendering [=====================>----------------------] at 5.3 fps ~ eta: 10s\n",
      "\n",
      "Rendering [=====================>----------------------] at 5.3 fps ~ eta:  9s\n",
      "\n",
      "Rendering [======================>---------------------] at 5.2 fps ~ eta:  9s\n",
      "\n",
      "Rendering [=======================>--------------------] at 5.2 fps ~ eta:  9s\n",
      "\n",
      "Rendering [========================>-------------------] at 5.2 fps ~ eta:  9s\n",
      "\n",
      "Rendering [========================>-------------------] at 5.2 fps ~ eta:  8s\n",
      "\n",
      "Rendering [=========================>------------------] at 5.1 fps ~ eta:  8s\n",
      "\n",
      "Rendering [==========================>-----------------] at 5.1 fps ~ eta:  8s\n",
      "\n",
      "Rendering [===========================>----------------] at 5.1 fps ~ eta:  7s\n",
      "\n",
      "Rendering [============================>---------------] at 5.1 fps ~ eta:  7s\n",
      "\n",
      "Rendering [=============================>----------------] at 5 fps ~ eta:  7s\n",
      "\n",
      "Rendering [==============================>---------------] at 5 fps ~ eta:  7s\n",
      "\n",
      "Rendering [==============================>---------------] at 5 fps ~ eta:  6s\n",
      "\n",
      "Rendering [===============================>--------------] at 5 fps ~ eta:  6s\n",
      "\n",
      "Rendering [================================>-------------] at 5 fps ~ eta:  6s\n",
      "\n",
      "Rendering [=================================>------------] at 5 fps ~ eta:  5s\n",
      "\n",
      "Rendering [==================================>-----------] at 5 fps ~ eta:  5s\n",
      "\n",
      "Rendering [===================================>----------] at 5 fps ~ eta:  4s\n",
      "\n",
      "Rendering [====================================>---------] at 5 fps ~ eta:  4s\n",
      "\n",
      "Rendering [=====================================>--------] at 5 fps ~ eta:  4s\n",
      "\n",
      "Rendering [=====================================>--------] at 5 fps ~ eta:  3s\n",
      "\n",
      "Rendering [====================================>-------] at 4.9 fps ~ eta:  3s\n",
      "\n",
      "Rendering [=====================================>------] at 4.9 fps ~ eta:  3s\n",
      "\n",
      "Rendering [======================================>-----] at 4.9 fps ~ eta:  2s\n",
      "\n",
      "Rendering [=======================================>----] at 4.9 fps ~ eta:  2s\n",
      "\n",
      "Rendering [========================================>---] at 4.9 fps ~ eta:  1s\n",
      "\n",
      "Rendering [=========================================>--] at 4.9 fps ~ eta:  1s\n",
      "\n",
      "Rendering [==========================================>-] at 4.9 fps ~ eta:  1s\n",
      "\n",
      "Rendering [==========================================>-] at 4.9 fps ~ eta:  0s\n",
      "\n",
      "Rendering [===========================================>] at 4.9 fps ~ eta:  0s\n",
      "\n",
      "Rendering [============================================] at 4.9 fps ~ eta:  0s\n",
      "                                                                              \n",
      "\n",
      "ERROR while rich displaying an object: Error in loadNamespace(x): there is no package called 'plotly'\n",
      "\n",
      "Traceback:\n",
      "1. tryCatch(withCallingHandlers({\n",
      " .     if (!mime %in% names(repr::mime2repr)) \n",
      " .         stop(\"No repr_* for mimetype \", mime, \" in repr::mime2repr\")\n",
      " .     rpr <- repr::mime2repr[[mime]](obj)\n",
      " .     if (is.null(rpr)) \n",
      " .         return(NULL)\n",
      " .     prepare_content(is.raw(rpr), rpr)\n",
      " . }, error = error_handler), error = outer_handler)\n",
      "2. tryCatchList(expr, classes, parentenv, handlers)\n",
      "3. tryCatchOne(expr, names, parentenv, handlers[[1L]])\n",
      "4. doTryCatch(return(expr), name, parentenv, handler)\n",
      "5. withCallingHandlers({\n",
      " .     if (!mime %in% names(repr::mime2repr)) \n",
      " .         stop(\"No repr_* for mimetype \", mime, \" in repr::mime2repr\")\n",
      " .     rpr <- repr::mime2repr[[mime]](obj)\n",
      " .     if (is.null(rpr)) \n",
      " .         return(NULL)\n",
      " .     prepare_content(is.raw(rpr), rpr)\n",
      " . }, error = error_handler)\n",
      "6. repr::mime2repr[[mime]](obj)\n",
      "7. repr_plotly1.ggplot(obj)\n",
      "8. fromJSON(plotly::plotly_json(obj, jsonedit = FALSE))\n",
      "9. loadNamespace(x)\n",
      "10. withRestarts(stop(cond), retry_loadNamespace = function() NULL)\n",
      "11. withOneRestart(expr, restarts[[1L]])\n",
      "12. doWithOneRestart(return(expr), restart)\n"
     ]
    },
    {
     "data": {
      "text/plain": [
       "  [1] \"./gganim_plot0001.png\" \"./gganim_plot0002.png\" \"./gganim_plot0003.png\"\n",
       "  [4] \"./gganim_plot0004.png\" \"./gganim_plot0005.png\" \"./gganim_plot0006.png\"\n",
       "  [7] \"./gganim_plot0007.png\" \"./gganim_plot0008.png\" \"./gganim_plot0009.png\"\n",
       " [10] \"./gganim_plot0010.png\" \"./gganim_plot0011.png\" \"./gganim_plot0012.png\"\n",
       " [13] \"./gganim_plot0013.png\" \"./gganim_plot0014.png\" \"./gganim_plot0015.png\"\n",
       " [16] \"./gganim_plot0016.png\" \"./gganim_plot0017.png\" \"./gganim_plot0018.png\"\n",
       " [19] \"./gganim_plot0019.png\" \"./gganim_plot0020.png\" \"./gganim_plot0021.png\"\n",
       " [22] \"./gganim_plot0022.png\" \"./gganim_plot0023.png\" \"./gganim_plot0024.png\"\n",
       " [25] \"./gganim_plot0025.png\" \"./gganim_plot0026.png\" \"./gganim_plot0027.png\"\n",
       " [28] \"./gganim_plot0028.png\" \"./gganim_plot0029.png\" \"./gganim_plot0030.png\"\n",
       " [31] \"./gganim_plot0031.png\" \"./gganim_plot0032.png\" \"./gganim_plot0033.png\"\n",
       " [34] \"./gganim_plot0034.png\" \"./gganim_plot0035.png\" \"./gganim_plot0036.png\"\n",
       " [37] \"./gganim_plot0037.png\" \"./gganim_plot0038.png\" \"./gganim_plot0039.png\"\n",
       " [40] \"./gganim_plot0040.png\" \"./gganim_plot0041.png\" \"./gganim_plot0042.png\"\n",
       " [43] \"./gganim_plot0043.png\" \"./gganim_plot0044.png\" \"./gganim_plot0045.png\"\n",
       " [46] \"./gganim_plot0046.png\" \"./gganim_plot0047.png\" \"./gganim_plot0048.png\"\n",
       " [49] \"./gganim_plot0049.png\" \"./gganim_plot0050.png\" \"./gganim_plot0051.png\"\n",
       " [52] \"./gganim_plot0052.png\" \"./gganim_plot0053.png\" \"./gganim_plot0054.png\"\n",
       " [55] \"./gganim_plot0055.png\" \"./gganim_plot0056.png\" \"./gganim_plot0057.png\"\n",
       " [58] \"./gganim_plot0058.png\" \"./gganim_plot0059.png\" \"./gganim_plot0060.png\"\n",
       " [61] \"./gganim_plot0061.png\" \"./gganim_plot0062.png\" \"./gganim_plot0063.png\"\n",
       " [64] \"./gganim_plot0064.png\" \"./gganim_plot0065.png\" \"./gganim_plot0066.png\"\n",
       " [67] \"./gganim_plot0067.png\" \"./gganim_plot0068.png\" \"./gganim_plot0069.png\"\n",
       " [70] \"./gganim_plot0070.png\" \"./gganim_plot0071.png\" \"./gganim_plot0072.png\"\n",
       " [73] \"./gganim_plot0073.png\" \"./gganim_plot0074.png\" \"./gganim_plot0075.png\"\n",
       " [76] \"./gganim_plot0076.png\" \"./gganim_plot0077.png\" \"./gganim_plot0078.png\"\n",
       " [79] \"./gganim_plot0079.png\" \"./gganim_plot0080.png\" \"./gganim_plot0081.png\"\n",
       " [82] \"./gganim_plot0082.png\" \"./gganim_plot0083.png\" \"./gganim_plot0084.png\"\n",
       " [85] \"./gganim_plot0085.png\" \"./gganim_plot0086.png\" \"./gganim_plot0087.png\"\n",
       " [88] \"./gganim_plot0088.png\" \"./gganim_plot0089.png\" \"./gganim_plot0090.png\"\n",
       " [91] \"./gganim_plot0091.png\" \"./gganim_plot0092.png\" \"./gganim_plot0093.png\"\n",
       " [94] \"./gganim_plot0094.png\" \"./gganim_plot0095.png\" \"./gganim_plot0096.png\"\n",
       " [97] \"./gganim_plot0097.png\" \"./gganim_plot0098.png\" \"./gganim_plot0099.png\"\n",
       "[100] \"./gganim_plot0100.png\"\n",
       "attr(,\"frame_vars\")\n",
       "    frame nframes progress frame_time\n",
       "1       1     100     0.01       1952\n",
       "2       2     100     0.02       1953\n",
       "3       3     100     0.03       1953\n",
       "4       4     100     0.04       1954\n",
       "5       5     100     0.05       1954\n",
       "6       6     100     0.06       1955\n",
       "7       7     100     0.07       1955\n",
       "8       8     100     0.08       1956\n",
       "9       9     100     0.09       1956\n",
       "10     10     100     0.10       1957\n",
       "11     11     100     0.11       1958\n",
       "12     12     100     0.12       1958\n",
       "13     13     100     0.13       1959\n",
       "14     14     100     0.14       1959\n",
       "15     15     100     0.15       1960\n",
       "16     16     100     0.16       1960\n",
       "17     17     100     0.17       1961\n",
       "18     18     100     0.18       1961\n",
       "19     19     100     0.19       1962\n",
       "20     20     100     0.20       1963\n",
       "21     21     100     0.21       1963\n",
       "22     22     100     0.22       1964\n",
       "23     23     100     0.23       1964\n",
       "24     24     100     0.24       1965\n",
       "25     25     100     0.25       1965\n",
       "26     26     100     0.26       1966\n",
       "27     27     100     0.27       1966\n",
       "28     28     100     0.28       1967\n",
       "29     29     100     0.29       1968\n",
       "30     30     100     0.30       1968\n",
       "31     31     100     0.31       1969\n",
       "32     32     100     0.32       1969\n",
       "33     33     100     0.33       1970\n",
       "34     34     100     0.34       1970\n",
       "35     35     100     0.35       1971\n",
       "36     36     100     0.36       1971\n",
       "37     37     100     0.37       1972\n",
       "38     38     100     0.38       1973\n",
       "39     39     100     0.39       1973\n",
       "40     40     100     0.40       1974\n",
       "41     41     100     0.41       1974\n",
       "42     42     100     0.42       1975\n",
       "43     43     100     0.43       1975\n",
       "44     44     100     0.44       1976\n",
       "45     45     100     0.45       1976\n",
       "46     46     100     0.46       1977\n",
       "47     47     100     0.47       1978\n",
       "48     48     100     0.48       1978\n",
       "49     49     100     0.49       1979\n",
       "50     50     100     0.50       1979\n",
       "51     51     100     0.51       1980\n",
       "52     52     100     0.52       1980\n",
       "53     53     100     0.53       1981\n",
       "54     54     100     0.54       1981\n",
       "55     55     100     0.55       1982\n",
       "56     56     100     0.56       1983\n",
       "57     57     100     0.57       1983\n",
       "58     58     100     0.58       1984\n",
       "59     59     100     0.59       1984\n",
       "60     60     100     0.60       1985\n",
       "61     61     100     0.61       1985\n",
       "62     62     100     0.62       1986\n",
       "63     63     100     0.63       1986\n",
       "64     64     100     0.64       1987\n",
       "65     65     100     0.65       1988\n",
       "66     66     100     0.66       1988\n",
       "67     67     100     0.67       1989\n",
       "68     68     100     0.68       1989\n",
       "69     69     100     0.69       1990\n",
       "70     70     100     0.70       1990\n",
       "71     71     100     0.71       1991\n",
       "72     72     100     0.72       1991\n",
       "73     73     100     0.73       1992\n",
       "74     74     100     0.74       1993\n",
       "75     75     100     0.75       1993\n",
       "76     76     100     0.76       1994\n",
       "77     77     100     0.77       1994\n",
       "78     78     100     0.78       1995\n",
       "79     79     100     0.79       1995\n",
       "80     80     100     0.80       1996\n",
       "81     81     100     0.81       1996\n",
       "82     82     100     0.82       1997\n",
       "83     83     100     0.83       1998\n",
       "84     84     100     0.84       1998\n",
       "85     85     100     0.85       1999\n",
       "86     86     100     0.86       1999\n",
       "87     87     100     0.87       2000\n",
       "88     88     100     0.88       2000\n",
       "89     89     100     0.89       2001\n",
       "90     90     100     0.90       2001\n",
       "91     91     100     0.91       2002\n",
       "92     92     100     0.92       2003\n",
       "93     93     100     0.93       2003\n",
       "94     94     100     0.94       2004\n",
       "95     95     100     0.95       2004\n",
       "96     96     100     0.96       2005\n",
       "97     97     100     0.97       2005\n",
       "98     98     100     0.98       2006\n",
       "99     99     100     0.99       2006\n",
       "100   100     100     1.00       2007\n",
       "                                                                               frame_source\n",
       "1   C:\\\\Users\\\\BEGAS-~1\\\\AppData\\\\Local\\\\Temp\\\\RtmpOGXLLQ\\\\3d141b24799d/gganim_plot0001.png\n",
       "2   C:\\\\Users\\\\BEGAS-~1\\\\AppData\\\\Local\\\\Temp\\\\RtmpOGXLLQ\\\\3d141b24799d/gganim_plot0002.png\n",
       "3   C:\\\\Users\\\\BEGAS-~1\\\\AppData\\\\Local\\\\Temp\\\\RtmpOGXLLQ\\\\3d141b24799d/gganim_plot0003.png\n",
       "4   C:\\\\Users\\\\BEGAS-~1\\\\AppData\\\\Local\\\\Temp\\\\RtmpOGXLLQ\\\\3d141b24799d/gganim_plot0004.png\n",
       "5   C:\\\\Users\\\\BEGAS-~1\\\\AppData\\\\Local\\\\Temp\\\\RtmpOGXLLQ\\\\3d141b24799d/gganim_plot0005.png\n",
       "6   C:\\\\Users\\\\BEGAS-~1\\\\AppData\\\\Local\\\\Temp\\\\RtmpOGXLLQ\\\\3d141b24799d/gganim_plot0006.png\n",
       "7   C:\\\\Users\\\\BEGAS-~1\\\\AppData\\\\Local\\\\Temp\\\\RtmpOGXLLQ\\\\3d141b24799d/gganim_plot0007.png\n",
       "8   C:\\\\Users\\\\BEGAS-~1\\\\AppData\\\\Local\\\\Temp\\\\RtmpOGXLLQ\\\\3d141b24799d/gganim_plot0008.png\n",
       "9   C:\\\\Users\\\\BEGAS-~1\\\\AppData\\\\Local\\\\Temp\\\\RtmpOGXLLQ\\\\3d141b24799d/gganim_plot0009.png\n",
       "10  C:\\\\Users\\\\BEGAS-~1\\\\AppData\\\\Local\\\\Temp\\\\RtmpOGXLLQ\\\\3d141b24799d/gganim_plot0010.png\n",
       "11  C:\\\\Users\\\\BEGAS-~1\\\\AppData\\\\Local\\\\Temp\\\\RtmpOGXLLQ\\\\3d141b24799d/gganim_plot0011.png\n",
       "12  C:\\\\Users\\\\BEGAS-~1\\\\AppData\\\\Local\\\\Temp\\\\RtmpOGXLLQ\\\\3d141b24799d/gganim_plot0012.png\n",
       "13  C:\\\\Users\\\\BEGAS-~1\\\\AppData\\\\Local\\\\Temp\\\\RtmpOGXLLQ\\\\3d141b24799d/gganim_plot0013.png\n",
       "14  C:\\\\Users\\\\BEGAS-~1\\\\AppData\\\\Local\\\\Temp\\\\RtmpOGXLLQ\\\\3d141b24799d/gganim_plot0014.png\n",
       "15  C:\\\\Users\\\\BEGAS-~1\\\\AppData\\\\Local\\\\Temp\\\\RtmpOGXLLQ\\\\3d141b24799d/gganim_plot0015.png\n",
       "16  C:\\\\Users\\\\BEGAS-~1\\\\AppData\\\\Local\\\\Temp\\\\RtmpOGXLLQ\\\\3d141b24799d/gganim_plot0016.png\n",
       "17  C:\\\\Users\\\\BEGAS-~1\\\\AppData\\\\Local\\\\Temp\\\\RtmpOGXLLQ\\\\3d141b24799d/gganim_plot0017.png\n",
       "18  C:\\\\Users\\\\BEGAS-~1\\\\AppData\\\\Local\\\\Temp\\\\RtmpOGXLLQ\\\\3d141b24799d/gganim_plot0018.png\n",
       "19  C:\\\\Users\\\\BEGAS-~1\\\\AppData\\\\Local\\\\Temp\\\\RtmpOGXLLQ\\\\3d141b24799d/gganim_plot0019.png\n",
       "20  C:\\\\Users\\\\BEGAS-~1\\\\AppData\\\\Local\\\\Temp\\\\RtmpOGXLLQ\\\\3d141b24799d/gganim_plot0020.png\n",
       "21  C:\\\\Users\\\\BEGAS-~1\\\\AppData\\\\Local\\\\Temp\\\\RtmpOGXLLQ\\\\3d141b24799d/gganim_plot0021.png\n",
       "22  C:\\\\Users\\\\BEGAS-~1\\\\AppData\\\\Local\\\\Temp\\\\RtmpOGXLLQ\\\\3d141b24799d/gganim_plot0022.png\n",
       "23  C:\\\\Users\\\\BEGAS-~1\\\\AppData\\\\Local\\\\Temp\\\\RtmpOGXLLQ\\\\3d141b24799d/gganim_plot0023.png\n",
       "24  C:\\\\Users\\\\BEGAS-~1\\\\AppData\\\\Local\\\\Temp\\\\RtmpOGXLLQ\\\\3d141b24799d/gganim_plot0024.png\n",
       "25  C:\\\\Users\\\\BEGAS-~1\\\\AppData\\\\Local\\\\Temp\\\\RtmpOGXLLQ\\\\3d141b24799d/gganim_plot0025.png\n",
       "26  C:\\\\Users\\\\BEGAS-~1\\\\AppData\\\\Local\\\\Temp\\\\RtmpOGXLLQ\\\\3d141b24799d/gganim_plot0026.png\n",
       "27  C:\\\\Users\\\\BEGAS-~1\\\\AppData\\\\Local\\\\Temp\\\\RtmpOGXLLQ\\\\3d141b24799d/gganim_plot0027.png\n",
       "28  C:\\\\Users\\\\BEGAS-~1\\\\AppData\\\\Local\\\\Temp\\\\RtmpOGXLLQ\\\\3d141b24799d/gganim_plot0028.png\n",
       "29  C:\\\\Users\\\\BEGAS-~1\\\\AppData\\\\Local\\\\Temp\\\\RtmpOGXLLQ\\\\3d141b24799d/gganim_plot0029.png\n",
       "30  C:\\\\Users\\\\BEGAS-~1\\\\AppData\\\\Local\\\\Temp\\\\RtmpOGXLLQ\\\\3d141b24799d/gganim_plot0030.png\n",
       "31  C:\\\\Users\\\\BEGAS-~1\\\\AppData\\\\Local\\\\Temp\\\\RtmpOGXLLQ\\\\3d141b24799d/gganim_plot0031.png\n",
       "32  C:\\\\Users\\\\BEGAS-~1\\\\AppData\\\\Local\\\\Temp\\\\RtmpOGXLLQ\\\\3d141b24799d/gganim_plot0032.png\n",
       "33  C:\\\\Users\\\\BEGAS-~1\\\\AppData\\\\Local\\\\Temp\\\\RtmpOGXLLQ\\\\3d141b24799d/gganim_plot0033.png\n",
       "34  C:\\\\Users\\\\BEGAS-~1\\\\AppData\\\\Local\\\\Temp\\\\RtmpOGXLLQ\\\\3d141b24799d/gganim_plot0034.png\n",
       "35  C:\\\\Users\\\\BEGAS-~1\\\\AppData\\\\Local\\\\Temp\\\\RtmpOGXLLQ\\\\3d141b24799d/gganim_plot0035.png\n",
       "36  C:\\\\Users\\\\BEGAS-~1\\\\AppData\\\\Local\\\\Temp\\\\RtmpOGXLLQ\\\\3d141b24799d/gganim_plot0036.png\n",
       "37  C:\\\\Users\\\\BEGAS-~1\\\\AppData\\\\Local\\\\Temp\\\\RtmpOGXLLQ\\\\3d141b24799d/gganim_plot0037.png\n",
       "38  C:\\\\Users\\\\BEGAS-~1\\\\AppData\\\\Local\\\\Temp\\\\RtmpOGXLLQ\\\\3d141b24799d/gganim_plot0038.png\n",
       "39  C:\\\\Users\\\\BEGAS-~1\\\\AppData\\\\Local\\\\Temp\\\\RtmpOGXLLQ\\\\3d141b24799d/gganim_plot0039.png\n",
       "40  C:\\\\Users\\\\BEGAS-~1\\\\AppData\\\\Local\\\\Temp\\\\RtmpOGXLLQ\\\\3d141b24799d/gganim_plot0040.png\n",
       "41  C:\\\\Users\\\\BEGAS-~1\\\\AppData\\\\Local\\\\Temp\\\\RtmpOGXLLQ\\\\3d141b24799d/gganim_plot0041.png\n",
       "42  C:\\\\Users\\\\BEGAS-~1\\\\AppData\\\\Local\\\\Temp\\\\RtmpOGXLLQ\\\\3d141b24799d/gganim_plot0042.png\n",
       "43  C:\\\\Users\\\\BEGAS-~1\\\\AppData\\\\Local\\\\Temp\\\\RtmpOGXLLQ\\\\3d141b24799d/gganim_plot0043.png\n",
       "44  C:\\\\Users\\\\BEGAS-~1\\\\AppData\\\\Local\\\\Temp\\\\RtmpOGXLLQ\\\\3d141b24799d/gganim_plot0044.png\n",
       "45  C:\\\\Users\\\\BEGAS-~1\\\\AppData\\\\Local\\\\Temp\\\\RtmpOGXLLQ\\\\3d141b24799d/gganim_plot0045.png\n",
       "46  C:\\\\Users\\\\BEGAS-~1\\\\AppData\\\\Local\\\\Temp\\\\RtmpOGXLLQ\\\\3d141b24799d/gganim_plot0046.png\n",
       "47  C:\\\\Users\\\\BEGAS-~1\\\\AppData\\\\Local\\\\Temp\\\\RtmpOGXLLQ\\\\3d141b24799d/gganim_plot0047.png\n",
       "48  C:\\\\Users\\\\BEGAS-~1\\\\AppData\\\\Local\\\\Temp\\\\RtmpOGXLLQ\\\\3d141b24799d/gganim_plot0048.png\n",
       "49  C:\\\\Users\\\\BEGAS-~1\\\\AppData\\\\Local\\\\Temp\\\\RtmpOGXLLQ\\\\3d141b24799d/gganim_plot0049.png\n",
       "50  C:\\\\Users\\\\BEGAS-~1\\\\AppData\\\\Local\\\\Temp\\\\RtmpOGXLLQ\\\\3d141b24799d/gganim_plot0050.png\n",
       "51  C:\\\\Users\\\\BEGAS-~1\\\\AppData\\\\Local\\\\Temp\\\\RtmpOGXLLQ\\\\3d141b24799d/gganim_plot0051.png\n",
       "52  C:\\\\Users\\\\BEGAS-~1\\\\AppData\\\\Local\\\\Temp\\\\RtmpOGXLLQ\\\\3d141b24799d/gganim_plot0052.png\n",
       "53  C:\\\\Users\\\\BEGAS-~1\\\\AppData\\\\Local\\\\Temp\\\\RtmpOGXLLQ\\\\3d141b24799d/gganim_plot0053.png\n",
       "54  C:\\\\Users\\\\BEGAS-~1\\\\AppData\\\\Local\\\\Temp\\\\RtmpOGXLLQ\\\\3d141b24799d/gganim_plot0054.png\n",
       "55  C:\\\\Users\\\\BEGAS-~1\\\\AppData\\\\Local\\\\Temp\\\\RtmpOGXLLQ\\\\3d141b24799d/gganim_plot0055.png\n",
       "56  C:\\\\Users\\\\BEGAS-~1\\\\AppData\\\\Local\\\\Temp\\\\RtmpOGXLLQ\\\\3d141b24799d/gganim_plot0056.png\n",
       "57  C:\\\\Users\\\\BEGAS-~1\\\\AppData\\\\Local\\\\Temp\\\\RtmpOGXLLQ\\\\3d141b24799d/gganim_plot0057.png\n",
       "58  C:\\\\Users\\\\BEGAS-~1\\\\AppData\\\\Local\\\\Temp\\\\RtmpOGXLLQ\\\\3d141b24799d/gganim_plot0058.png\n",
       "59  C:\\\\Users\\\\BEGAS-~1\\\\AppData\\\\Local\\\\Temp\\\\RtmpOGXLLQ\\\\3d141b24799d/gganim_plot0059.png\n",
       "60  C:\\\\Users\\\\BEGAS-~1\\\\AppData\\\\Local\\\\Temp\\\\RtmpOGXLLQ\\\\3d141b24799d/gganim_plot0060.png\n",
       "61  C:\\\\Users\\\\BEGAS-~1\\\\AppData\\\\Local\\\\Temp\\\\RtmpOGXLLQ\\\\3d141b24799d/gganim_plot0061.png\n",
       "62  C:\\\\Users\\\\BEGAS-~1\\\\AppData\\\\Local\\\\Temp\\\\RtmpOGXLLQ\\\\3d141b24799d/gganim_plot0062.png\n",
       "63  C:\\\\Users\\\\BEGAS-~1\\\\AppData\\\\Local\\\\Temp\\\\RtmpOGXLLQ\\\\3d141b24799d/gganim_plot0063.png\n",
       "64  C:\\\\Users\\\\BEGAS-~1\\\\AppData\\\\Local\\\\Temp\\\\RtmpOGXLLQ\\\\3d141b24799d/gganim_plot0064.png\n",
       "65  C:\\\\Users\\\\BEGAS-~1\\\\AppData\\\\Local\\\\Temp\\\\RtmpOGXLLQ\\\\3d141b24799d/gganim_plot0065.png\n",
       "66  C:\\\\Users\\\\BEGAS-~1\\\\AppData\\\\Local\\\\Temp\\\\RtmpOGXLLQ\\\\3d141b24799d/gganim_plot0066.png\n",
       "67  C:\\\\Users\\\\BEGAS-~1\\\\AppData\\\\Local\\\\Temp\\\\RtmpOGXLLQ\\\\3d141b24799d/gganim_plot0067.png\n",
       "68  C:\\\\Users\\\\BEGAS-~1\\\\AppData\\\\Local\\\\Temp\\\\RtmpOGXLLQ\\\\3d141b24799d/gganim_plot0068.png\n",
       "69  C:\\\\Users\\\\BEGAS-~1\\\\AppData\\\\Local\\\\Temp\\\\RtmpOGXLLQ\\\\3d141b24799d/gganim_plot0069.png\n",
       "70  C:\\\\Users\\\\BEGAS-~1\\\\AppData\\\\Local\\\\Temp\\\\RtmpOGXLLQ\\\\3d141b24799d/gganim_plot0070.png\n",
       "71  C:\\\\Users\\\\BEGAS-~1\\\\AppData\\\\Local\\\\Temp\\\\RtmpOGXLLQ\\\\3d141b24799d/gganim_plot0071.png\n",
       "72  C:\\\\Users\\\\BEGAS-~1\\\\AppData\\\\Local\\\\Temp\\\\RtmpOGXLLQ\\\\3d141b24799d/gganim_plot0072.png\n",
       "73  C:\\\\Users\\\\BEGAS-~1\\\\AppData\\\\Local\\\\Temp\\\\RtmpOGXLLQ\\\\3d141b24799d/gganim_plot0073.png\n",
       "74  C:\\\\Users\\\\BEGAS-~1\\\\AppData\\\\Local\\\\Temp\\\\RtmpOGXLLQ\\\\3d141b24799d/gganim_plot0074.png\n",
       "75  C:\\\\Users\\\\BEGAS-~1\\\\AppData\\\\Local\\\\Temp\\\\RtmpOGXLLQ\\\\3d141b24799d/gganim_plot0075.png\n",
       "76  C:\\\\Users\\\\BEGAS-~1\\\\AppData\\\\Local\\\\Temp\\\\RtmpOGXLLQ\\\\3d141b24799d/gganim_plot0076.png\n",
       "77  C:\\\\Users\\\\BEGAS-~1\\\\AppData\\\\Local\\\\Temp\\\\RtmpOGXLLQ\\\\3d141b24799d/gganim_plot0077.png\n",
       "78  C:\\\\Users\\\\BEGAS-~1\\\\AppData\\\\Local\\\\Temp\\\\RtmpOGXLLQ\\\\3d141b24799d/gganim_plot0078.png\n",
       "79  C:\\\\Users\\\\BEGAS-~1\\\\AppData\\\\Local\\\\Temp\\\\RtmpOGXLLQ\\\\3d141b24799d/gganim_plot0079.png\n",
       "80  C:\\\\Users\\\\BEGAS-~1\\\\AppData\\\\Local\\\\Temp\\\\RtmpOGXLLQ\\\\3d141b24799d/gganim_plot0080.png\n",
       "81  C:\\\\Users\\\\BEGAS-~1\\\\AppData\\\\Local\\\\Temp\\\\RtmpOGXLLQ\\\\3d141b24799d/gganim_plot0081.png\n",
       "82  C:\\\\Users\\\\BEGAS-~1\\\\AppData\\\\Local\\\\Temp\\\\RtmpOGXLLQ\\\\3d141b24799d/gganim_plot0082.png\n",
       "83  C:\\\\Users\\\\BEGAS-~1\\\\AppData\\\\Local\\\\Temp\\\\RtmpOGXLLQ\\\\3d141b24799d/gganim_plot0083.png\n",
       "84  C:\\\\Users\\\\BEGAS-~1\\\\AppData\\\\Local\\\\Temp\\\\RtmpOGXLLQ\\\\3d141b24799d/gganim_plot0084.png\n",
       "85  C:\\\\Users\\\\BEGAS-~1\\\\AppData\\\\Local\\\\Temp\\\\RtmpOGXLLQ\\\\3d141b24799d/gganim_plot0085.png\n",
       "86  C:\\\\Users\\\\BEGAS-~1\\\\AppData\\\\Local\\\\Temp\\\\RtmpOGXLLQ\\\\3d141b24799d/gganim_plot0086.png\n",
       "87  C:\\\\Users\\\\BEGAS-~1\\\\AppData\\\\Local\\\\Temp\\\\RtmpOGXLLQ\\\\3d141b24799d/gganim_plot0087.png\n",
       "88  C:\\\\Users\\\\BEGAS-~1\\\\AppData\\\\Local\\\\Temp\\\\RtmpOGXLLQ\\\\3d141b24799d/gganim_plot0088.png\n",
       "89  C:\\\\Users\\\\BEGAS-~1\\\\AppData\\\\Local\\\\Temp\\\\RtmpOGXLLQ\\\\3d141b24799d/gganim_plot0089.png\n",
       "90  C:\\\\Users\\\\BEGAS-~1\\\\AppData\\\\Local\\\\Temp\\\\RtmpOGXLLQ\\\\3d141b24799d/gganim_plot0090.png\n",
       "91  C:\\\\Users\\\\BEGAS-~1\\\\AppData\\\\Local\\\\Temp\\\\RtmpOGXLLQ\\\\3d141b24799d/gganim_plot0091.png\n",
       "92  C:\\\\Users\\\\BEGAS-~1\\\\AppData\\\\Local\\\\Temp\\\\RtmpOGXLLQ\\\\3d141b24799d/gganim_plot0092.png\n",
       "93  C:\\\\Users\\\\BEGAS-~1\\\\AppData\\\\Local\\\\Temp\\\\RtmpOGXLLQ\\\\3d141b24799d/gganim_plot0093.png\n",
       "94  C:\\\\Users\\\\BEGAS-~1\\\\AppData\\\\Local\\\\Temp\\\\RtmpOGXLLQ\\\\3d141b24799d/gganim_plot0094.png\n",
       "95  C:\\\\Users\\\\BEGAS-~1\\\\AppData\\\\Local\\\\Temp\\\\RtmpOGXLLQ\\\\3d141b24799d/gganim_plot0095.png\n",
       "96  C:\\\\Users\\\\BEGAS-~1\\\\AppData\\\\Local\\\\Temp\\\\RtmpOGXLLQ\\\\3d141b24799d/gganim_plot0096.png\n",
       "97  C:\\\\Users\\\\BEGAS-~1\\\\AppData\\\\Local\\\\Temp\\\\RtmpOGXLLQ\\\\3d141b24799d/gganim_plot0097.png\n",
       "98  C:\\\\Users\\\\BEGAS-~1\\\\AppData\\\\Local\\\\Temp\\\\RtmpOGXLLQ\\\\3d141b24799d/gganim_plot0098.png\n",
       "99  C:\\\\Users\\\\BEGAS-~1\\\\AppData\\\\Local\\\\Temp\\\\RtmpOGXLLQ\\\\3d141b24799d/gganim_plot0099.png\n",
       "100 C:\\\\Users\\\\BEGAS-~1\\\\AppData\\\\Local\\\\Temp\\\\RtmpOGXLLQ\\\\3d141b24799d/gganim_plot0100.png"
      ]
     },
     "metadata": {},
     "output_type": "display_data"
    },
    {
     "ename": "ERROR",
     "evalue": "Error: The animation object does not specify a save_animation method\n",
     "output_type": "error",
     "traceback": [
      "Error: The animation object does not specify a save_animation method\nTraceback:\n",
      "1. anim_save(\"271-ggplot2-animated-gif-chart-with-gganimate2.gif\")",
      "2. save_animation(animation, filename)",
      "3. save_animation.default(animation, filename)",
      "4. stop(\"The animation object does not specify a save_animation method\", \n .     call. = FALSE)"
     ]
    }
   ],
   "source": [
    "# Charge libraries:\n",
    "library(ggplot2)\n",
    "library(gganimate)\n",
    " \n",
    "# Make a ggplot, but add frame=year: one image per year\n",
    "ggplot(gapminder, aes(gdpPercap, lifeExp, size = pop, colour = country)) +\n",
    "  geom_point(alpha = 0.7, show.legend = FALSE) +\n",
    "  scale_colour_manual(values = country_colors) +\n",
    "  scale_size(range = c(2, 12)) +\n",
    "  scale_x_log10() +\n",
    "  facet_wrap(~continent) +\n",
    "  # Here comes the gganimate specific bits\n",
    "  labs(title = 'Year: {frame_time}', x = 'GDP per capita', y = 'life expectancy') +\n",
    "  transition_time(year) +\n",
    "  ease_aes('linear')\n",
    "\n",
    "\n",
    "# Save at gif:\n",
    "anim_save(\"271-ggplot2-animated-gif-chart-with-gganimate2.gif\")"
   ]
  },
  {
   "cell_type": "code",
   "execution_count": 3,
   "id": "b8e0ebc1-1fa3-4065-909c-5438f21ed115",
   "metadata": {},
   "outputs": [
    {
     "data": {
      "text/plain": [
       "R version 4.3.0 (2023-04-21 ucrt)\n",
       "Platform: x86_64-w64-mingw32/x64 (64-bit)\n",
       "Running under: Windows 11 x64 (build 22621)\n",
       "\n",
       "Matrix products: default\n",
       "\n",
       "\n",
       "locale:\n",
       "[1] LC_COLLATE=Korean_Korea.utf8  LC_CTYPE=Korean_Korea.utf8   \n",
       "[3] LC_MONETARY=Korean_Korea.utf8 LC_NUMERIC=C                 \n",
       "[5] LC_TIME=Korean_Korea.utf8    \n",
       "\n",
       "time zone: Asia/Seoul\n",
       "tzcode source: internal\n",
       "\n",
       "attached base packages:\n",
       "[1] stats     graphics  grDevices utils     datasets  methods   base     \n",
       "\n",
       "other attached packages:\n",
       "[1] gganimate_1.0.8 ggplot2_3.4.2   gapminder_1.0.0\n",
       "\n",
       "loaded via a namespace (and not attached):\n",
       " [1] gtable_0.3.3      jsonlite_1.8.4    dplyr_1.1.2       compiler_4.3.0   \n",
       " [5] crayon_1.5.2      tidyselect_1.2.0  IRdisplay_1.1     progress_1.2.2   \n",
       " [9] scales_1.2.1      uuid_1.1-0        fastmap_1.1.1     IRkernel_1.3.2   \n",
       "[13] R6_2.5.1          labeling_0.4.2    generics_0.1.3    tibble_3.2.1     \n",
       "[17] munsell_0.5.0     pillar_1.9.0      rlang_1.1.1       utf8_1.2.3       \n",
       "[21] stringi_1.7.12    repr_1.1.6        cli_3.6.1         withr_2.5.0      \n",
       "[25] magrittr_2.0.3    tweenr_2.0.2      digest_0.6.31     grid_4.3.0       \n",
       "[29] base64enc_0.1-3   hms_1.1.3         pbdZMQ_0.3-9      lifecycle_1.0.3  \n",
       "[33] prettyunits_1.1.1 vctrs_0.6.2       evaluate_0.21     glue_1.6.2       \n",
       "[37] farver_2.1.1      fansi_1.0.4       colorspace_2.1-0  tools_4.3.0      \n",
       "[41] pkgconfig_2.0.3   htmltools_0.5.5  "
      ]
     },
     "metadata": {},
     "output_type": "display_data"
    }
   ],
   "source": [
    "sessionInfo()"
   ]
  },
  {
   "cell_type": "code",
   "execution_count": 4,
   "id": "365c49ab-8848-406a-8a77-073ff9de1d71",
   "metadata": {},
   "outputs": [
    {
     "data": {
      "text/html": [
       "'C:/Program Files/R/R-4.3.0/library'"
      ],
      "text/latex": [
       "'C:/Program Files/R/R-4.3.0/library'"
      ],
      "text/markdown": [
       "'C:/Program Files/R/R-4.3.0/library'"
      ],
      "text/plain": [
       "[1] \"C:/Program Files/R/R-4.3.0/library\""
      ]
     },
     "metadata": {},
     "output_type": "display_data"
    }
   ],
   "source": [
    ".libPaths()"
   ]
  },
  {
   "cell_type": "code",
   "execution_count": 5,
   "id": "2cfb086d-47a6-4a23-9037-5e9b6d6893bb",
   "metadata": {},
   "outputs": [
    {
     "name": "stdout",
     "output_type": "stream",
     "text": [
      "package 'gifski' successfully unpacked and MD5 sums checked\n",
      "\n",
      "The downloaded binary packages are in\n",
      "\tC:\\Users\\BEGAS-159\\AppData\\Local\\Temp\\RtmpKWvcSu\\downloaded_packages\n"
     ]
    }
   ],
   "source": [
    "install.packages(\"gifski\")"
   ]
  },
  {
   "cell_type": "code",
   "execution_count": 6,
   "id": "c18185f3-ebd7-4dd9-8808-b7f55e21fd88",
   "metadata": {},
   "outputs": [
    {
     "name": "stdout",
     "output_type": "stream",
     "text": [
      "package 'av' successfully unpacked and MD5 sums checked\n",
      "\n",
      "The downloaded binary packages are in\n",
      "\tC:\\Users\\BEGAS-159\\AppData\\Local\\Temp\\RtmpKWvcSu\\downloaded_packages\n"
     ]
    }
   ],
   "source": [
    "install.packages(\"av\")"
   ]
  },
  {
   "cell_type": "code",
   "execution_count": 7,
   "id": "b83db6e7-88af-46f9-baf9-13c56ee3f4a1",
   "metadata": {},
   "outputs": [],
   "source": [
    "library(gifski)\n",
    "library(av)"
   ]
  },
  {
   "cell_type": "code",
   "execution_count": null,
   "id": "8516cacd-2fa3-47b1-8903-7d26dd38b0b3",
   "metadata": {},
   "outputs": [],
   "source": []
  },
  {
   "cell_type": "code",
   "execution_count": null,
   "id": "a19db65f-206d-47f0-9ae9-115d350717ed",
   "metadata": {},
   "outputs": [],
   "source": []
  },
  {
   "cell_type": "code",
   "execution_count": null,
   "id": "42604488-5e4e-4dab-9e86-ddaac7dc278a",
   "metadata": {},
   "outputs": [],
   "source": []
  }
 ],
 "metadata": {
  "kernelspec": {
   "display_name": "R",
   "language": "R",
   "name": "ir"
  },
  "language_info": {
   "codemirror_mode": "r",
   "file_extension": ".r",
   "mimetype": "text/x-r-source",
   "name": "R",
   "pygments_lexer": "r",
   "version": "4.3.0"
  }
 },
 "nbformat": 4,
 "nbformat_minor": 5
}
